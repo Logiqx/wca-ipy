{
 "cells": [
  {
   "cell_type": "markdown",
   "metadata": {},
   "source": [
    "# Senior Top 10\n",
    "\n",
    "Created by Michael George (AKA Logiqx)\n",
    "\n",
    "Note: This can only be run after \"Overs 40s\" and \"Percentile Ranks\"\n",
    "\n",
    "Link: https://www.speedsolving.com/forum/showthread.php?54128-How-fast-are-the-over-40-s-in-competitions"
   ]
  },
  {
   "cell_type": "code",
   "execution_count": 238,
   "metadata": {
    "collapsed": false
   },
   "outputs": [],
   "source": [
    "# List of recognised events\n",
    "events = \\\n",
    "[\n",
    "    ('333', '3x3x3 Cube', '10', 'time', 180),\n",
    "    ('222', '2x2x2 Cube', '20', 'time', 60),\n",
    "    ('444', '4x4x4 Cube', '30', 'time', 180),\n",
    "    ('555', '5x5x5 Cube', '40', 'time', 240),\n",
    "    ('666', '6x6x6 Cube', '50', 'time', 360),\n",
    "    ('777', '7x7x7 Cube', '60', 'time', 540),\n",
    "    ('333bf', '3x3x3 Blindfolded', '70', 'time', 240),\n",
    "    ('333fm', '3x3x3 Fewest Moves', '80', 'number', 60),\n",
    "    ('333oh', '3x3x3 One-Handed', '90', 'time', 120),\n",
    "    ('333ft', '3x3x3 With Feet', '100', 'time', 240),\n",
    "    ('clock', 'Clock', '110', 'time', 60),\n",
    "    ('minx', 'Megaminx', '120', 'time', 240),\n",
    "    ('pyram', 'Pyraminx', '130', 'time', 60),\n",
    "    ('skewb', 'Skewb', '140', 'time', 60),\n",
    "    ('sq1', 'Square-1', '150', 'time', 120),\n",
    "    ('444bf', '4x4x4 Blindfolded', '160', 'time', 0),\n",
    "    ('555bf', '5x5x5 Blindfolded', '170', 'time', 0),\n",
    "    ('333mbf', '3x3x3 Multi-Blind', '180', 'multi', 0)\n",
    "]\n",
    "\n",
    "# Dictionary of recognised events\n",
    "eventsDict = {}\n",
    "for event in events:\n",
    "    eventsDict[event[0]] = (event[1:])"
   ]
  },
  {
   "cell_type": "markdown",
   "metadata": {},
   "source": [
    "## Seconds to HH:MM:SS\n",
    "\n",
    "Intelligently convert seconds to hours, minutes and seconds"
   ]
  },
  {
   "cell_type": "code",
   "execution_count": 239,
   "metadata": {
    "collapsed": false
   },
   "outputs": [],
   "source": [
    "def formatTime(seconds):\n",
    "    if seconds > 3600:\n",
    "        return str(seconds / 3600) + ':' + str(seconds % 3600 / 60).zfill(2) + ':' + str(seconds % 60).zfill(2)\n",
    "    elif seconds > 60:\n",
    "        return str(seconds / 60) + ':' + str(seconds % 60).zfill(2)\n",
    "    else:\n",
    "        return seconds\n",
    "    \n",
    "def decodeTime(result):\n",
    "    seconds = 0\n",
    "    parts = result.split(':')\n",
    "\n",
    "    for part in parts:\n",
    "        seconds = seconds * 60 + int(part)\n",
    "\n",
    "    return seconds"
   ]
  },
  {
   "cell_type": "markdown",
   "metadata": {},
   "source": [
    "## Read Event Results from CSV\n",
    "\n",
    "Read event data from CSV into memory, prior to processing"
   ]
  },
  {
   "cell_type": "code",
   "execution_count": 240,
   "metadata": {
    "collapsed": false
   },
   "outputs": [],
   "source": [
    "import os, csv\n",
    "\n",
    "class EventResults:\n",
    "    \n",
    "    def __init__(self):\n",
    "        \"\"\"Initialisise the event results\"\"\"\n",
    "        \n",
    "        self.basename = None\n",
    "        self.event = None\n",
    "        self.results = []\n",
    "        self.total = 0\n",
    "        \n",
    "    def readResults(self, basename, event):\n",
    "        \"\"\"Read event results from CSV into memory\"\"\"\n",
    "        \n",
    "        self.basename = basename\n",
    "        self.event = event\n",
    "        self.results = []\n",
    "        self.total = 0\n",
    "\n",
    "        # Read rows using the CSV reader\n",
    "        fn = os.path.join('data', 'public', self.basename, self.event[0] + '.csv')\n",
    "        with open(fn, 'rb') as f:\n",
    "            csvReader = csv.reader(f)\n",
    "            \n",
    "            # Process each row individually\n",
    "            for inputRow in csvReader:\n",
    "                \n",
    "                # Pack out results with zeros\n",
    "                while (int(inputRow[0]) > len(self.results)):\n",
    "                    self.results.append([0, self.total])\n",
    "                \n",
    "                count = int(inputRow[1])\n",
    "                self.total += count\n",
    "                self.results.append([count, self.total])"
   ]
  },
  {
   "cell_type": "markdown",
   "metadata": {},
   "source": [
    "## Read Partial Results from CSV\n",
    "\n",
    "Read event data from CSV into memory, prior to processing"
   ]
  },
  {
   "cell_type": "code",
   "execution_count": 241,
   "metadata": {
    "collapsed": false
   },
   "outputs": [],
   "source": [
    "import os, csv\n",
    "\n",
    "class PartialResults:\n",
    "    \n",
    "    def __init__(self):\n",
    "        \"\"\"Initialisise the partial results\"\"\"\n",
    "        \n",
    "        self.basename = None\n",
    "        self.event = None\n",
    "        self.results = {}\n",
    "        self.total = 0\n",
    "        \n",
    "    def readResults(self, basename, event):\n",
    "        \"\"\"Read event results from CSV into memory\"\"\"\n",
    "        \n",
    "        self.basename = basename\n",
    "        self.event = event\n",
    "        self.results = {}\n",
    "        self.total = 0\n",
    "\n",
    "        # Read rows using the CSV reader\n",
    "        fn = os.path.join('data', 'public', self.basename, self.event[0] + '.csv')\n",
    "        with open(fn, 'rb') as f:\n",
    "            csvReader = csv.reader(f)\n",
    "            \n",
    "            # Process each row individually\n",
    "            for inputRow in csvReader:\n",
    "                \n",
    "                result = inputRow[5].split('.')[0]\n",
    "                \n",
    "                if self.event[3] == 'time':\n",
    "                    result = decodeTime(result)\n",
    "                else:\n",
    "                    result = int(result)\n",
    "                \n",
    "                if self.results.has_key(result):\n",
    "                    self.results[result] += [inputRow]\n",
    "                else:\n",
    "                    self.results[result] = [inputRow]"
   ]
  },
  {
   "cell_type": "markdown",
   "metadata": {},
   "source": [
    "## Analyse Results\n",
    "\n",
    "Process all three sets of results simultaneously"
   ]
  },
  {
   "cell_type": "code",
   "execution_count": 242,
   "metadata": {
    "collapsed": false
   },
   "outputs": [],
   "source": [
    "class EventAnalysis:\n",
    "    \n",
    "    def __init__(self):\n",
    "        \"\"\"Initialisise the event analysis\"\"\"\n",
    "        \n",
    "        self.event = None\n",
    "        self.wcaResults = None\n",
    "        self.seniorResults = None\n",
    "        self.knownResults = None\n",
    "        \n",
    "    def readResults(self, event):\n",
    "        \"\"\"Read event results from CSV into memory\"\"\"\n",
    "\n",
    "        # Skip processing if no cutoff is defined\n",
    "        if event[4] > 0:\n",
    "            self.event = event\n",
    "\n",
    "            self.seniorResults = EventResults()\n",
    "            self.seniorResults.readResults('senior_averages', self.event)\n",
    "\n",
    "            self.partialResults = PartialResults()\n",
    "            self.partialResults.readResults('top_averages', self.event)\n",
    "\n",
    "    def getHtml(self):\n",
    "        \"\"\"Get the HTML for the event\"\"\"\n",
    "        \n",
    "        html = ''\n",
    "        \n",
    "        if self.event:\n",
    "            html += '<details>'\n",
    "            html += '<summary>%s</summary>\\n' % self.event[1]\n",
    "            html += '<table>\\n'\n",
    "            html += '<tr>'\n",
    "            for field in ['Sub-X', 'Seniors', 'Names']:\n",
    "                html += '<td><b>%s</b></td>' % field\n",
    "            html += '</tr>\\n'\n",
    "\n",
    "            i = 0\n",
    "            count = 0\n",
    "            while count < 10:\n",
    "                \n",
    "                seniorResult = self.seniorResults.results[i]\n",
    "                \n",
    "                # Skip past all of the empty results\n",
    "                if seniorResult[0] > 0:\n",
    "                    if self.partialResults.results.has_key(i):\n",
    "                        persons = self.partialResults.results[i]\n",
    "                    else:\n",
    "                        persons = []\n",
    "\n",
    "                    known = len(persons)\n",
    "                    unknown = seniorResult[0] - len(persons)\n",
    "                    \n",
    "                    html += '<tr>'\n",
    "\n",
    "                    # The result may be a time or count\n",
    "                    if self.event[3] == 'time':\n",
    "                        result = formatTime(i + 1)\n",
    "                    else:\n",
    "                        result = i + 1\n",
    "\n",
    "                    html += '<td>%s</td>' % result\n",
    "                    html += '<td>%d</td>' % seniorResult[0]\n",
    "\n",
    "                    details = ''\n",
    "                    if len(persons) > 0:\n",
    "                        for person in persons:\n",
    "                            if details:\n",
    "                                details += '<br/>'\n",
    "                            link = '<a href=\"https://www.worldcubeassociation.org/results/p.php?i=%s#%s\">%s</a>' % \\\n",
    "                                    (person[2], self.event[0], person[2]);\n",
    "                            details += '%s, %s (%s) - %s' % (person[1], person[4], link, person[5])\n",
    "                        if unknown > 0:\n",
    "                            details += '<br/><br/>+ '\n",
    "                            \n",
    "                    if unknown > 0:\n",
    "                        details += '%d unknown%s' % (unknown, unknown > 1 then 's' else '')\n",
    "\n",
    "                    html += '<td>%s</td>' % details\n",
    "                    \n",
    "                    html += '</tr>\\n'\n",
    "\n",
    "                    count = seniorResult[1]\n",
    "                    \n",
    "                i += 1\n",
    "\n",
    "            html += '</table>\\n'\n",
    "            html += '</details>\\n'\n",
    "        \n",
    "        return html"
   ]
  },
  {
   "cell_type": "markdown",
   "metadata": {},
   "source": [
    "## Analyse Events\n",
    "\n",
    "Process the events one-by-one"
   ]
  },
  {
   "cell_type": "code",
   "execution_count": 243,
   "metadata": {
    "collapsed": false
   },
   "outputs": [],
   "source": [
    "html = '''<h1>Background</h1>\n",
    "<p>This project started on the <a href=\"https://www.speedsolving.com/forum/threads/how-fast-are-the-over-40s-in-competitions.54128/\">SpeedSolving.com</a> forum and was last updated %s.</p>\n",
    "<p>The statistics below have been calculated using <a href=\"sql/senior_aggregates.sql\">aggregated data</a> from the WCA database.</p>\n",
    "\\n\\n''' % '2019-02-01'\n",
    "\n",
    "html += '<h1>%s</h1>\\n' % 'Official Averages'\n",
    "\n",
    "for event in events:\n",
    "    eventAnalysis = EventAnalysis()\n",
    "    eventAnalysis.readResults(event)\n",
    "    html += eventAnalysis.getHtml()\n",
    "    \n",
    "with open(\"Senior Top 10.md\", 'w') as f:\n",
    "    f.write(html)"
   ]
  },
  {
   "cell_type": "code",
   "execution_count": null,
   "metadata": {
    "collapsed": true
   },
   "outputs": [],
   "source": []
  }
 ],
 "metadata": {
  "kernelspec": {
   "display_name": "Python 2",
   "language": "python",
   "name": "python2"
  },
  "language_info": {
   "codemirror_mode": {
    "name": "ipython",
    "version": 2
   },
   "file_extension": ".py",
   "mimetype": "text/x-python",
   "name": "python",
   "nbconvert_exporter": "python",
   "pygments_lexer": "ipython2",
   "version": "2.7.11"
  }
 },
 "nbformat": 4,
 "nbformat_minor": 0
}
