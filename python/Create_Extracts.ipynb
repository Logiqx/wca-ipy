{
 "cells": [
  {
   "cell_type": "markdown",
   "metadata": {},
   "source": [
    "# Create Extracts\n",
    "\n",
    "Author: Michael George (AKA Logiqx)\n",
    "\n",
    "Purpose: Extract data from the WCA database and save as CSV files"
   ]
  },
  {
   "cell_type": "markdown",
   "metadata": {},
   "source": [
    "## Initialisation\n",
    "\n",
    "Basic approach to determine the project directory"
   ]
  },
  {
   "cell_type": "code",
   "execution_count": 1,
   "metadata": {},
   "outputs": [],
   "source": [
    "import os, sys\n",
    "\n",
    "projdir = os.path.realpath(os.path.join(sys.path[0], '..'))"
   ]
  },
  {
   "cell_type": "markdown",
   "metadata": {},
   "source": [
    "## Database Parameters\n",
    "\n",
    "Connection details for MySQL / MariaDB database\n",
    "\n",
    "Note: You may need to update the password in `$HOME/.my.cnf`"
   ]
  },
  {
   "cell_type": "code",
   "execution_count": 2,
   "metadata": {},
   "outputs": [],
   "source": [
    "hostname = os.environ['MYSQL_HOST']\n",
    "database = os.environ['MYSQL_DATABASE']\n",
    "username = os.environ['MYSQL_USER']"
   ]
  },
  {
   "cell_type": "markdown",
   "metadata": {},
   "source": [
    "## Generic SQL Function\n",
    "\n",
    "Simple function to run a SQL extract and save the results in a CSV"
   ]
  },
  {
   "cell_type": "code",
   "execution_count": 3,
   "metadata": {},
   "outputs": [],
   "source": [
    "import sqlparse, pymysql\n",
    "import csv\n",
    "\n",
    "def runSqlExtract(extract):\n",
    "   \n",
    "    source = os.path.join(projdir, 'sql', 'extract_%s.sql' % extract)\n",
    "    with open(source) as infile:\n",
    "        script = infile.read()\n",
    "        statements = sqlparse.split(script)\n",
    "\n",
    "        con = pymysql.connect(host=hostname, user=username, db=database,\n",
    "                              read_default_file='~/.my.cnf', autocommit=True)\n",
    "        with con:\n",
    "            cur = con.cursor()\n",
    "\n",
    "            for statement in statements:\n",
    "                if statement:\n",
    "                    cur.execute(statement)\n",
    "                    rows = cur.fetchall()\n",
    "\n",
    "                    fn = os.path.join(projdir, 'data', 'extract', extract + '.csv')\n",
    "                    if not os.path.exists(os.path.dirname(fn)):\n",
    "                        os.makedirs(os.path.dirname(fn))\n",
    "\n",
    "                    with open(fn, 'w') as outfile:\n",
    "                        csvWriter = csv.writer(outfile, quoting = csv.QUOTE_MINIMAL, lineterminator = os.linesep)\n",
    "\n",
    "                        for row in rows:\n",
    "                            csvWriter.writerow(row)"
   ]
  },
  {
   "cell_type": "markdown",
   "metadata": {},
   "source": [
    "## Run Extracts\n",
    "\n",
    "Extract data from database for subsequent analysis - percentiles, rankings, etc"
   ]
  },
  {
   "cell_type": "code",
   "execution_count": 4,
   "metadata": {},
   "outputs": [
    {
     "name": "stdout",
     "output_type": "stream",
     "text": [
      "Extracts completed in 2.57 seconds\n"
     ]
    }
   ],
   "source": [
    "import time\n",
    "pc1 = time.perf_counter()\n",
    "\n",
    "runSqlExtract('events')\n",
    "runSqlExtract('competitions')\n",
    "runSqlExtract('continents')\n",
    "runSqlExtract('countries')\n",
    "runSqlExtract('senior_rankings')\n",
    "runSqlExtract('seniors')\n",
    "\n",
    "pc2 = time.perf_counter()\n",
    "print(\"Extracts completed in %0.2f seconds\" % (pc2 - pc1))"
   ]
  },
  {
   "cell_type": "markdown",
   "metadata": {},
   "source": [
    "## All Done!"
   ]
  }
 ],
 "metadata": {
  "kernelspec": {
   "display_name": "Python 3",
   "language": "python",
   "name": "python3"
  },
  "language_info": {
   "codemirror_mode": {
    "name": "ipython",
    "version": 3
   },
   "file_extension": ".py",
   "mimetype": "text/x-python",
   "name": "python",
   "nbconvert_exporter": "python",
   "pygments_lexer": "ipython3",
   "version": "3.7.3"
  }
 },
 "nbformat": 4,
 "nbformat_minor": 1
}
