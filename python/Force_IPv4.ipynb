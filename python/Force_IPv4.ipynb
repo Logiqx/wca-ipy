{
 "cells": [
  {
   "cell_type": "markdown",
   "metadata": {},
   "source": [
    "# Force IPv4\n",
    "\n",
    "Alpine 3.13 upwards is unable to resolve www.worldcubeassociation.org on my Windows laptop running Docker + WSL2.\n",
    "\n",
    "Confirmed this issue to be present in Alpine 3.13, 3.14 and 3.15.\n",
    "\n",
    "This simple getaddrinfo() hack was found at https://stackoverflow.com/a/6319043"
   ]
  },
  {
   "cell_type": "code",
   "execution_count": 1,
   "metadata": {},
   "outputs": [],
   "source": [
    "import socket\n",
    "import platform\n",
    "\n",
    "# Original socket.getaddrinfo() function\n",
    "getAddrInfo = socket.getaddrinfo\n",
    "\n",
    "# Create wrapper to force IPv4\n",
    "def getAddrInfoWrapper(host, port, family=0, socktype=0, proto=0, flags=0):\n",
    "    return getAddrInfo(host, port, socket.AF_INET, socktype, proto, flags)\n",
    "\n",
    "# Only use the wrapper if running Docker + WSL2\n",
    "if platform.release().endswith('microsoft-standard-WSL2'):\n",
    "    socket.getaddrinfo = getAddrInfoWrapper"
   ]
  },
  {
   "cell_type": "markdown",
   "metadata": {},
   "source": [
    "## All Done!"
   ]
  }
 ],
 "metadata": {
  "kernelspec": {
   "display_name": "Python 3 (ipykernel)",
   "language": "python",
   "name": "python3"
  },
  "language_info": {
   "codemirror_mode": {
    "name": "ipython",
    "version": 3
   },
   "file_extension": ".py",
   "mimetype": "text/x-python",
   "name": "python",
   "nbconvert_exporter": "python",
   "pygments_lexer": "ipython3",
   "version": "3.9.7"
  }
 },
 "nbformat": 4,
 "nbformat_minor": 1
}
