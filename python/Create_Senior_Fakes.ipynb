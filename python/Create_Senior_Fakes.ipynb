{
 "cells": [
  {
   "cell_type": "markdown",
   "metadata": {},
   "source": [
    "# Create Senior Fakes\n",
    "\n",
    "Created by Michael George (AKA Logiqx)\n",
    "\n",
    "Create artificial / fake results to pad senior rankings"
   ]
  },
  {
   "cell_type": "markdown",
   "metadata": {},
   "source": [
    "## Initialisation\n",
    "\n",
    "Basic approach to determine the project directory"
   ]
  },
  {
   "cell_type": "code",
   "execution_count": 1,
   "metadata": {},
   "outputs": [],
   "source": [
    "import os, sys\n",
    "\n",
    "projdir = os.path.realpath(os.path.join(sys.path[0], '..'))"
   ]
  },
  {
   "cell_type": "markdown",
   "metadata": {},
   "source": [
    "## Database Parameters\n",
    "\n",
    "Connection details for MySQL / MariaDB database"
   ]
  },
  {
   "cell_type": "code",
   "execution_count": 2,
   "metadata": {},
   "outputs": [],
   "source": [
    "hostname = os.environ['MYSQL_HOST']\n",
    "database = os.environ['MYSQL_DATABASE']\n",
    "username = os.environ['MYSQL_USER']"
   ]
  },
  {
   "cell_type": "markdown",
   "metadata": {},
   "source": [
    "## Generic SQL Function\n",
    "\n",
    "Simple function to run a SQL script, preceded by a quick \"ping\" in case the database is starting up"
   ]
  },
  {
   "cell_type": "code",
   "execution_count": 3,
   "metadata": {},
   "outputs": [],
   "source": [
    "import sqlparse, pymysql\n",
    "import csv\n",
    "\n",
    "def runSqlScript(source):\n",
    "    with open(source) as infile:\n",
    "        script = infile.read()\n",
    "        statements = sqlparse.split(script)\n",
    "\n",
    "        con = pymysql.connect(host=hostname, user=username, db=database,\n",
    "                              read_default_file='~/.my.cnf', autocommit=True, local_infile=True)\n",
    "        with con:\n",
    "            cur = con.cursor()\n",
    "\n",
    "            for statement in statements:\n",
    "                if statement:\n",
    "                    cur.execute(statement)"
   ]
  },
  {
   "cell_type": "markdown",
   "metadata": {},
   "source": [
    "## Apply DOB\n",
    "\n",
    "Apply date of birth where known or approximated"
   ]
  },
  {
   "cell_type": "code",
   "execution_count": 4,
   "metadata": {},
   "outputs": [
    {
     "name": "stdout",
     "output_type": "stream",
     "text": [
      "Senior fakes created!\n"
     ]
    }
   ],
   "source": [
    "runSqlScript(os.path.join('..', 'sql', 'create_senior_fakes.sql'))\n",
    "\n",
    "print('Senior fakes created!')"
   ]
  },
  {
   "cell_type": "markdown",
   "metadata": {},
   "source": [
    "## All Done!"
   ]
  }
 ],
 "metadata": {
  "kernelspec": {
   "display_name": "Python 3",
   "language": "python",
   "name": "python3"
  },
  "language_info": {
   "codemirror_mode": {
    "name": "ipython",
    "version": 3
   },
   "file_extension": ".py",
   "mimetype": "text/x-python",
   "name": "python",
   "nbconvert_exporter": "python",
   "pygments_lexer": "ipython3",
   "version": "3.7.3"
  }
 },
 "nbformat": 4,
 "nbformat_minor": 1
}
