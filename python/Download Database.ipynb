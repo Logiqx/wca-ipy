{
 "cells": [
  {
   "cell_type": "markdown",
   "metadata": {},
   "source": [
    "# WCA Results - Automated Download and Import\n",
    "\n",
    "Created by Michael George (AKA Logiqx)"
   ]
  },
  {
   "cell_type": "markdown",
   "metadata": {},
   "source": [
    "## Common libraries"
   ]
  },
  {
   "cell_type": "code",
   "execution_count": 1,
   "metadata": {},
   "outputs": [],
   "source": [
    "# Time module used for performance counters\n",
    "import time"
   ]
  },
  {
   "cell_type": "markdown",
   "metadata": {},
   "source": [
    "## Database Parameters\n",
    "\n",
    "Update the connection details for your MySQL environment."
   ]
  },
  {
   "cell_type": "code",
   "execution_count": 2,
   "metadata": {},
   "outputs": [],
   "source": [
    "hostname = \"mariadb\"\n",
    "database = \"wca\"\n",
    "username = \"root\"\n",
    "password = \"R00tP4ss\""
   ]
  },
  {
   "cell_type": "markdown",
   "metadata": {},
   "source": [
    "## Download the HTML\n",
    "\n",
    "Fetch the database export  page from the WCA website."
   ]
  },
  {
   "cell_type": "code",
   "execution_count": 3,
   "metadata": {},
   "outputs": [],
   "source": [
    "# The library urllib2 will be used for the download\n",
    "import urllib.request\n",
    "import ssl\n",
    "\n",
    "# Specify the URL\n",
    "base_url = \"https://www.worldcubeassociation.org/results/misc/\"\n",
    "\n",
    "# Specify the URL\n",
    "html_url = base_url + \"export.html\"\n",
    "\n",
    "# Do not verify certicates\n",
    "context = ssl._create_unverified_context()\n",
    "\n",
    "# Open the URL and retrieve the TML\n",
    "page = urllib.request.urlopen(html_url, context=context)"
   ]
  },
  {
   "cell_type": "markdown",
   "metadata": {},
   "source": [
    "## Parse the HTML\n",
    "\n",
    "Locate the link for the ZIP file containing the SQL script."
   ]
  },
  {
   "cell_type": "code",
   "execution_count": 4,
   "metadata": {},
   "outputs": [
    {
     "name": "stdout",
     "output_type": "stream",
     "text": [
      "https://www.worldcubeassociation.org/results/misc/WCA_export096_20190422T040002Z.sql.zip\n"
     ]
    }
   ],
   "source": [
    "# The library Beautiful Soup will be used for the HTML parsing\n",
    "from bs4 import BeautifulSoup\n",
    "\n",
    "# Parse the HTML using beautiful soup\n",
    "soup = BeautifulSoup(page, \"lxml\")\n",
    "\n",
    "# Find all of the links on the page\n",
    "links = soup.find_all(\"a\")\n",
    "\n",
    "# Iterate through links\n",
    "for link in links:\n",
    "    \n",
    "    # Get the hyperlink reference\n",
    "    href = link.get(\"href\")\n",
    "    \n",
    "    # If it is the SQL script it's the one that we want\n",
    "    if href.endswith(\".sql.zip\"):\n",
    "        \n",
    "        # Record the SQL and exit the loop\n",
    "        zip_fn = href\n",
    "        zip_url = base_url + href\n",
    "        break\n",
    "        \n",
    "print(zip_url)"
   ]
  },
  {
   "cell_type": "markdown",
   "metadata": {},
   "source": [
    "## Download the ZIP\n",
    "\n",
    "Save the ZIP to the local machine."
   ]
  },
  {
   "cell_type": "code",
   "execution_count": 5,
   "metadata": {},
   "outputs": [
    {
     "name": "stdout",
     "output_type": "stream",
     "text": [
      "Download completed in 49.23 seconds\n"
     ]
    }
   ],
   "source": [
    "# Start time in fractional seconds\n",
    "pc1 = time.perf_counter()\n",
    "\n",
    "# Create file handle for the ZIP\n",
    "infile = urllib.request.urlopen(zip_url, context=context)\n",
    "\n",
    "# Write the ZIP to a local file\n",
    "with open(zip_fn, \"wb\") as outfile:\n",
    "    outfile.write(infile.read())\n",
    "\n",
    "# Close the URL\n",
    "infile.close()\n",
    "\n",
    "# End time in fractional seconds\n",
    "pc2 = time.perf_counter()\n",
    "\n",
    "print(\"Download completed in %0.2f seconds\" % (pc2 - pc1))"
   ]
  },
  {
   "cell_type": "markdown",
   "metadata": {},
   "source": [
    "## Extract the SQL\n",
    "\n",
    "Extract the SQL script from within the ZIP file."
   ]
  },
  {
   "cell_type": "code",
   "execution_count": 6,
   "metadata": {},
   "outputs": [
    {
     "name": "stdout",
     "output_type": "stream",
     "text": [
      "Extract completed in 10.43 seconds\n"
     ]
    }
   ],
   "source": [
    "# Use the zipfile library to handle the zipfile\n",
    "import zipfile\n",
    "\n",
    "# Start time in fractional seconds\n",
    "pc1 = time.perf_counter()\n",
    "\n",
    "# Open the ZIP file\n",
    "zipfile = zipfile.ZipFile(zip_fn, \"r\")\n",
    "\n",
    "# Iterate through members\n",
    "for member in zipfile.namelist():\n",
    "    \n",
    "    # Is it the SQL?\n",
    "    if member.endswith(\".sql\"):\n",
    "        \n",
    "        # Extract the SQL\n",
    "        zipfile.extract(member)\n",
    "\n",
    "# Close the ZIP file\n",
    "zipfile.close()\n",
    "\n",
    "# End time in fractional seconds\n",
    "pc2 = time.perf_counter()\n",
    "\n",
    "print(\"Extract completed in %0.2f seconds\" % (pc2 - pc1))"
   ]
  },
  {
   "cell_type": "markdown",
   "metadata": {},
   "source": [
    "## Generic SQL Function\n",
    "\n",
    "Simple function to run a SQL script"
   ]
  },
  {
   "cell_type": "code",
   "execution_count": 7,
   "metadata": {},
   "outputs": [],
   "source": [
    "# Use the OS library to execute mysql script\n",
    "import os\n",
    "\n",
    "def runSqlScript(source):   \n",
    "    cmd = 'mysql --host=%s --database=%s --user=%s --password=%s --execute=\"source %s\" --default-character-set=utf8' % (hostname, database, username, password, source)\n",
    "    result = os.system(cmd)\n",
    "    if result != 0:\n",
    "        print('%s returned %d' % (source, result))"
   ]
  },
  {
   "cell_type": "markdown",
   "metadata": {},
   "source": [
    "## Populate the WCA Database\n",
    "\n",
    "Note: The actual database is expected to exist already"
   ]
  },
  {
   "cell_type": "code",
   "execution_count": 8,
   "metadata": {},
   "outputs": [
    {
     "name": "stdout",
     "output_type": "stream",
     "text": [
      "Load completed in 523.34 seconds\n"
     ]
    }
   ],
   "source": [
    "# Start time in fractional seconds\n",
    "pc1 = time.perf_counter()\n",
    "\n",
    "runSqlScript('WCA_export.sql')\n",
    "\n",
    "# End time in fractional seconds\n",
    "pc2 = time.perf_counter()\n",
    "\n",
    "print(\"Load completed in %0.2f seconds\" % (pc2 - pc1))"
   ]
  },
  {
   "cell_type": "markdown",
   "metadata": {},
   "source": [
    "## Schema Changes\n",
    "\n",
    "Alter tables and create table indices"
   ]
  },
  {
   "cell_type": "code",
   "execution_count": 9,
   "metadata": {},
   "outputs": [
    {
     "name": "stdout",
     "output_type": "stream",
     "text": [
      "Indexing completed in 251.36 seconds\n"
     ]
    }
   ],
   "source": [
    "# Start time in fractional seconds\n",
    "pc1 = time.perf_counter()\n",
    "\n",
    "runSqlScript('../sql/alter_tables.sql')\n",
    "runSqlScript('../sql/create_indices.sql')\n",
    "\n",
    "# End time in fractional seconds\n",
    "pc2 = time.perf_counter()\n",
    "\n",
    "print(\"Indexing completed in %0.2f seconds\" % (pc2 - pc1))"
   ]
  },
  {
   "cell_type": "markdown",
   "metadata": {},
   "source": [
    "## Apply DOB\n",
    "\n",
    "Apply date of birth where known or approximated"
   ]
  },
  {
   "cell_type": "code",
   "execution_count": 10,
   "metadata": {},
   "outputs": [
    {
     "name": "stdout",
     "output_type": "stream",
     "text": [
      "DOBs applied in 13.10 seconds\n"
     ]
    }
   ],
   "source": [
    "# Start time in fractional seconds\n",
    "pc1 = time.perf_counter()\n",
    "\n",
    "runSqlScript('../sql/apply_known_dob.sql')\n",
    "\n",
    "pc2 = time.perf_counter()\n",
    "\n",
    "print(\"DOBs applied in %0.2f seconds\" % (pc2 - pc1))"
   ]
  },
  {
   "cell_type": "markdown",
   "metadata": {},
   "source": [
    "## Run Extracts\n",
    "\n",
    "Extract data from database for subsequent analysis - percentiles, rankings, etc"
   ]
  },
  {
   "cell_type": "code",
   "execution_count": 11,
   "metadata": {},
   "outputs": [
    {
     "name": "stdout",
     "output_type": "stream",
     "text": [
      "Extracts completed in 5.06 seconds\n"
     ]
    }
   ],
   "source": [
    "# Start time in fractional seconds\n",
    "pc1 = time.perf_counter()\n",
    "\n",
    "runSqlScript('../sql/extract_senior_details.sql')\n",
    "runSqlScript('../sql/extract_senior_aggs.sql')\n",
    "runSqlScript('../sql/extract_senior_deltas.sql')\n",
    "runSqlScript('../sql/extract_wca_aggs.sql')\n",
    "\n",
    "# End time in fractional seconds\n",
    "pc2 = time.perf_counter()\n",
    "\n",
    "print(\"Extracts completed in %0.2f seconds\" % (pc2 - pc1))"
   ]
  },
  {
   "cell_type": "markdown",
   "metadata": {},
   "source": [
    "# All Done!"
   ]
  }
 ],
 "metadata": {
  "kernelspec": {
   "display_name": "Python 3",
   "language": "python",
   "name": "python3"
  },
  "language_info": {
   "codemirror_mode": {
    "name": "ipython",
    "version": 3
   },
   "file_extension": ".py",
   "mimetype": "text/x-python",
   "name": "python",
   "nbconvert_exporter": "python",
   "pygments_lexer": "ipython3",
   "version": "3.7.1"
  }
 },
 "nbformat": 4,
 "nbformat_minor": 1
}
