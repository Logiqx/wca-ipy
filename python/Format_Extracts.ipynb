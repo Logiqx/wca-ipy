{
 "cells": [
  {
   "cell_type": "markdown",
   "metadata": {},
   "source": [
    "# WCA Results - Data Preparation\n",
    "\n",
    "Created by Michael George (AKA Logiqx)\n",
    "\n",
    "Extract data from the WCA database and reformat into individual CSV files for each event.\n",
    "\n",
    "Note: This script can only be run if you have the contents of the \"private\" data folder."
   ]
  },
  {
   "cell_type": "markdown",
   "metadata": {},
   "source": [
    "## Database Parameters\n",
    "\n",
    "Connection details for MySQL / MariaDB database"
   ]
  },
  {
   "cell_type": "code",
   "execution_count": 1,
   "metadata": {},
   "outputs": [],
   "source": [
    "# Use the OS library to read environment variables\n",
    "import os\n",
    "\n",
    "# You will need to update the password in $HOME/.my.cnf\n",
    "hostname = os.environ['MYSQL_HOSTNAME']\n",
    "database = os.environ['MYSQL_DATABASE']\n",
    "username = os.environ['MYSQL_USER']"
   ]
  },
  {
   "cell_type": "markdown",
   "metadata": {},
   "source": [
    "## Generic SQL Function\n",
    "\n",
    "Simple function to run a SQL script"
   ]
  },
  {
   "cell_type": "code",
   "execution_count": 2,
   "metadata": {},
   "outputs": [],
   "source": [
    "# Use the OS library to execute mysql script\n",
    "import os\n",
    "\n",
    "# Time module used for performance counters\n",
    "import time\n",
    "\n",
    "def runSqlScript(source):   \n",
    "    cmd = 'mysql --host=%s --database=%s --user=%s --execute=\"source %s\" --default-character-set=utf8' % (hostname, database, username, source)\n",
    "    result = os.system(cmd)\n",
    "    if result != 0:\n",
    "        print('%s returned %d' % (source, result))"
   ]
  },
  {
   "cell_type": "markdown",
   "metadata": {},
   "source": [
    "## Apply DOB\n",
    "\n",
    "Apply date of birth where known or approximated"
   ]
  },
  {
   "cell_type": "code",
   "execution_count": 3,
   "metadata": {},
   "outputs": [
    {
     "name": "stdout",
     "output_type": "stream",
     "text": [
      "DOBs applied in 0.31 seconds\n"
     ]
    }
   ],
   "source": [
    "# Start time in fractional seconds\n",
    "pc1 = time.perf_counter()\n",
    "\n",
    "runSqlScript('../sql/apply_known_dob.sql')\n",
    "\n",
    "pc2 = time.perf_counter()\n",
    "\n",
    "print(\"DOBs applied in %0.2f seconds\" % (pc2 - pc1))"
   ]
  },
  {
   "cell_type": "markdown",
   "metadata": {},
   "source": [
    "## Run Extracts\n",
    "\n",
    "Extract data from database for subsequent analysis - percentiles, rankings, etc"
   ]
  },
  {
   "cell_type": "code",
   "execution_count": 4,
   "metadata": {},
   "outputs": [
    {
     "name": "stdout",
     "output_type": "stream",
     "text": [
      "Extracts completed in 3.08 seconds\n"
     ]
    }
   ],
   "source": [
    "# Remove previous extracts\n",
    "import os, glob\n",
    "for f in glob.glob(os.path.join('..', 'data', 'public', 'extract', '*.csv')):\n",
    "    os.remove(f)\n",
    "    \n",
    "# Start time in fractional seconds\n",
    "pc1 = time.perf_counter()\n",
    "\n",
    "runSqlScript('../sql/extract_senior_details.sql')\n",
    "runSqlScript('../sql/extract_senior_aggs.sql')\n",
    "runSqlScript('../sql/extract_senior_deltas.sql')\n",
    "runSqlScript('../sql/extract_wca_aggs.sql')\n",
    "\n",
    "# End time in fractional seconds\n",
    "pc2 = time.perf_counter()\n",
    "\n",
    "print(\"Extracts completed in %0.2f seconds\" % (pc2 - pc1))"
   ]
  },
  {
   "cell_type": "markdown",
   "metadata": {},
   "source": [
    "## Generic Processing\n",
    "\n",
    "Turn the raw database extracts into a standard format:\n",
    "* Split into multiple files - one file per event\n",
    "* Standardise the layout - CSV with minimal quoting\n",
    "* Apply time limits / cutoffs to aggregated data\n",
    "\n",
    "Note: All of the output files can be made public due to the application of time limits / cutoffs"
   ]
  },
  {
   "cell_type": "code",
   "execution_count": 5,
   "metadata": {},
   "outputs": [],
   "source": [
    "import os, csv\n",
    "\n",
    "from EventsLib import *\n",
    "\n",
    "def writeResults(basename, event, eventResults):\n",
    "    \"\"\"Write event results from memory to CSV\"\"\"\n",
    "\n",
    "    fn = os.path.join('..', 'data', 'public', 'ready', basename, event + '.csv')\n",
    "    with open(fn, 'w') as f:\n",
    "        csvWriter = csv.writer(f, quoting = csv.QUOTE_MINIMAL, lineterminator = os.linesep)\n",
    "        for eventResult in eventResults:\n",
    "            csvWriter.writerow(eventResult)\n",
    "\n",
    "\n",
    "def prepareCounts(basename, subfolder):\n",
    "    \"\"\"Split file into individual events and apply time limits\"\"\"\n",
    "\n",
    "    # Ensure that a CSV exists for all events, even if empty\n",
    "    for event in events:\n",
    "        writeResults(basename, event[0], [])\n",
    "        \n",
    "    fn = os.path.join('..', 'data', subfolder, basename + '.csv')\n",
    "    with open(fn, 'r') as f:\n",
    "        csvReader = csv.reader(f)\n",
    "        \n",
    "        # Initilise event\n",
    "        event = None\n",
    "        cut1 = 0\n",
    "        cut2 = 0\n",
    "        cut3 = 0\n",
    "        eventResults = []\n",
    "\n",
    "        # Initilise result\n",
    "        result = None\n",
    "        count = 0\n",
    "\n",
    "        # Process each row individually\n",
    "        for inputRow in csvReader:\n",
    "\n",
    "            # Only process the current row if it is a recognised event\n",
    "            if inputRow[0] == event or inputRow[0] in eventsDict:\n",
    "\n",
    "                thisEvent = inputRow[0]\n",
    "                thisResult = int(inputRow[1])\n",
    "\n",
    "                # Detect change of event\n",
    "                if thisEvent != event:\n",
    "                    # Buffer the final result\n",
    "                    if count != 0:\n",
    "                        eventResults.append([result, count])\n",
    "                    # Save the previous event\n",
    "                    if event:\n",
    "                        writeResults(basename, event, eventResults)\n",
    "\n",
    "                    # Initilise event\n",
    "                    event = thisEvent\n",
    "                    cut1 = int(eventsDict[event][3])\n",
    "                    cut2 = int(eventsDict[event][4])\n",
    "                    cut3 = int(eventsDict[event][5])\n",
    "                    eventResults = []\n",
    "\n",
    "                    # Initilise result\n",
    "                    result = None\n",
    "                    count = 0\n",
    "                    \n",
    "                # Apply cutoffs\n",
    "                if thisResult > cut3:\n",
    "                    thisResult = cut3\n",
    "                elif thisResult > cut2:\n",
    "                    thisResult = thisResult // 60 * 60\n",
    "                elif thisResult > cut1:\n",
    "                    thisResult = thisResult // 10 * 10\n",
    "\n",
    "                # Detect change of result\n",
    "                if thisResult != result:\n",
    "                    # Buffer the current result\n",
    "                    if count != 0:\n",
    "                        eventResults.append([result, count])\n",
    "\n",
    "                    result = thisResult\n",
    "                    count = 0\n",
    "\n",
    "                count += int(inputRow[2])\n",
    "\n",
    "        # Save the final event\n",
    "        if count != 0:\n",
    "            eventResults.append([result, count])\n",
    "        writeResults(basename, event, eventResults)\n",
    "\n",
    "        \n",
    "def prepareResults(basename, subfolder):\n",
    "    \"\"\"Split file into individual events\"\"\"\n",
    "    \n",
    "    fn = os.path.join('..', 'data', subfolder, basename + '.csv')\n",
    "    with open(fn, 'r') as f:\n",
    "        csvReader = csv.reader(f)\n",
    "        \n",
    "        event = None\n",
    "        eventResults = []\n",
    "\n",
    "        # Process each row individually\n",
    "        for inputRow in csvReader:\n",
    "\n",
    "            # Only process the current row if it is a recognised event\n",
    "            if inputRow[0] == event or inputRow[0] in eventsDict:\n",
    "\n",
    "                # Detect change of event\n",
    "                if inputRow[0] != event:\n",
    "                    if event:\n",
    "                        writeResults(basename, event, eventResults)\n",
    "                    event = inputRow[0]\n",
    "                    eventResults = []\n",
    "\n",
    "                # Buffer the current result\n",
    "                eventResults.append(inputRow[1:])\n",
    "\n",
    "        # Save the final event\n",
    "        writeResults(basename, event, eventResults)\n",
    "\n",
    "\n",
    "def preparePeople(basename, subfolder):\n",
    "    \"\"\"Essentially a file copy but it will reformat the records if necessary\"\"\"\n",
    "    \n",
    "    rows = []\n",
    "    \n",
    "    # Read rows using the CSV reader\n",
    "    fn = os.path.join('..', 'data', subfolder, basename + '.csv')\n",
    "    with open(fn, 'r') as f:\n",
    "        csvReader = csv.reader(f)\n",
    "        for inputRow in csvReader:\n",
    "            rows.append(inputRow)\n",
    "\n",
    "    # Write rows using the CSV writer\n",
    "    fn = os.path.join('..', 'data', 'public', 'ready', basename + '.csv')\n",
    "    with open(fn, 'w') as f:\n",
    "        csvWriter = csv.writer(f, quoting = csv.QUOTE_MINIMAL, lineterminator = os.linesep)\n",
    "        for row in rows:\n",
    "            csvWriter.writerow(row)"
   ]
  },
  {
   "cell_type": "markdown",
   "metadata": {},
   "source": [
    "## Format Extracts\n",
    "\n",
    "Prepare all of the CSV files"
   ]
  },
  {
   "cell_type": "code",
   "execution_count": 6,
   "metadata": {},
   "outputs": [
    {
     "name": "stdout",
     "output_type": "stream",
     "text": [
      "Extracts formatted!\n"
     ]
    }
   ],
   "source": [
    "# Process known seniors from local database export\n",
    "public_dir = os.path.join('public', 'extract')\n",
    "preparePeople('known_senior_details', public_dir)\n",
    "prepareResults('known_senior_averages', public_dir)\n",
    "prepareResults('known_senior_singles', public_dir)\n",
    "prepareCounts('known_senior_averages_agg', public_dir)\n",
    "prepareCounts('known_senior_averages_delta', public_dir)\n",
    "prepareCounts('known_senior_singles_agg', public_dir)\n",
    "prepareCounts('wca_averages_agg', public_dir)\n",
    "prepareCounts('wca_singles_agg', public_dir)\n",
    "\n",
    "# Process data from remote database export (provided by WCA results team)\n",
    "private_dir = os.path.join('private', '2019-02-01')\n",
    "prepareCounts('senior_averages_agg', private_dir)\n",
    "\n",
    "print('Extracts formatted!')"
   ]
  },
  {
   "cell_type": "markdown",
   "metadata": {},
   "source": [
    "## All Done!"
   ]
  }
 ],
 "metadata": {
  "kernelspec": {
   "display_name": "Python 3",
   "language": "python",
   "name": "python3"
  },
  "language_info": {
   "codemirror_mode": {
    "name": "ipython",
    "version": 3
   },
   "file_extension": ".py",
   "mimetype": "text/x-python",
   "name": "python",
   "nbconvert_exporter": "python",
   "pygments_lexer": "ipython3",
   "version": "3.7.3"
  }
 },
 "nbformat": 4,
 "nbformat_minor": 1
}
