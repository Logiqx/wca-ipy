{
 "cells": [
  {
   "cell_type": "markdown",
   "metadata": {},
   "source": [
    "# Load Senior Stats\n",
    "\n",
    "Created by Michael George (AKA Logiqx)\n",
    "\n",
    "Load senior stats into the wca_ipy database.\n",
    "\n",
    "Note: This script can only be run if you have the contents of the \"private\" data folder."
   ]
  },
  {
   "cell_type": "markdown",
   "metadata": {},
   "source": [
    "## Database Parameters\n",
    "\n",
    "Connection details for MySQL / MariaDB database"
   ]
  },
  {
   "cell_type": "code",
   "execution_count": 1,
   "metadata": {},
   "outputs": [],
   "source": [
    "# Use the OS library to read environment variables\n",
    "import os\n",
    "\n",
    "# You will need to update the password in $HOME/.my.cnf\n",
    "hostname = os.environ['MYSQL_HOST']\n",
    "database = os.environ['MYSQL_DATABASE']\n",
    "username = os.environ['MYSQL_USER']"
   ]
  },
  {
   "cell_type": "markdown",
   "metadata": {},
   "source": [
    "## Generic SQL Function\n",
    "\n",
    "Simple function to run a SQL script, preceded by a quick \"ping\" in case the database is starting up"
   ]
  },
  {
   "cell_type": "code",
   "execution_count": 2,
   "metadata": {},
   "outputs": [],
   "source": [
    "import sqlparse, pymysql\n",
    "import os, sys\n",
    "\n",
    "projdir = os.path.realpath(os.path.join(sys.path[0], '..'))\n",
    "\n",
    "def runSqlScript(source):\n",
    "    fn = os.path.join(projdir, 'sql', source)\n",
    "    with open(fn) as infile:\n",
    "        script = infile.read()\n",
    "        statements = sqlparse.split(script)\n",
    "\n",
    "        con = pymysql.connect(host=hostname, user=username, db=database,\n",
    "                              read_default_file='~/.my.cnf', autocommit=True, local_infile=True)\n",
    "        with con:\n",
    "            cur = con.cursor()\n",
    "\n",
    "            for statement in statements:\n",
    "                if statement:\n",
    "                    cur.execute(statement)"
   ]
  },
  {
   "cell_type": "markdown",
   "metadata": {},
   "source": [
    "## Apply DOB\n",
    "\n",
    "Apply date of birth where known or approximated"
   ]
  },
  {
   "cell_type": "code",
   "execution_count": 3,
   "metadata": {},
   "outputs": [
    {
     "name": "stdout",
     "output_type": "stream",
     "text": [
      "Senior stats loaded!\n"
     ]
    }
   ],
   "source": [
    "runSqlScript('load_senior_stats.sql')\n",
    "\n",
    "print('Senior stats loaded!')"
   ]
  },
  {
   "cell_type": "markdown",
   "metadata": {},
   "source": [
    "## All Done!"
   ]
  }
 ],
 "metadata": {
  "kernelspec": {
   "display_name": "Python 3",
   "language": "python",
   "name": "python3"
  },
  "language_info": {
   "codemirror_mode": {
    "name": "ipython",
    "version": 3
   },
   "file_extension": ".py",
   "mimetype": "text/x-python",
   "name": "python",
   "nbconvert_exporter": "python",
   "pygments_lexer": "ipython3",
   "version": "3.7.3"
  }
 },
 "nbformat": 4,
 "nbformat_minor": 1
}
