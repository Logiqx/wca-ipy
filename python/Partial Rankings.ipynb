{
 "cells": [
  {
   "cell_type": "markdown",
   "metadata": {},
   "source": [
    "# WCA Database - How fast are the over 40's in competitions? \n",
    "\n",
    "Created by Michael George (AKA Logiqx)\n",
    "\n",
    "Link: https://www.speedsolving.com/forum/showthread.php?54128-How-fast-are-the-over-40-s-in-competitions\n",
    "\n",
    "Notes:\n",
    " - The approximate age column (~age) uses age on 1st January of that year.\n",
    " - Someone born in 1970 will be considered 39 years old during the whole of 2010,\n",
    "   40 years old during the whole of 2011, etc.\n",
    "\n",
    "v2.0 - 2019-02-12"
   ]
  },
  {
   "cell_type": "code",
   "execution_count": 1,
   "metadata": {
    "collapsed": true
   },
   "outputs": [],
   "source": [
    "from EventsLib import *"
   ]
  },
  {
   "cell_type": "markdown",
   "metadata": {},
   "source": [
    "## Read Partial Results from CSV\n",
    "\n",
    "Read event data from CSV into memory, prior to processing"
   ]
  },
  {
   "cell_type": "code",
   "execution_count": 2,
   "metadata": {
    "collapsed": false
   },
   "outputs": [],
   "source": [
    "import os, csv\n",
    "\n",
    "class PartialResults:\n",
    "    \n",
    "    def __init__(self):\n",
    "        \"\"\"Initialisise the partial results\"\"\"\n",
    "        \n",
    "        self.event = None\n",
    "        self.persons = {}\n",
    "        self.ids = []\n",
    "        self.results = {}\n",
    "\n",
    "\n",
    "    def readPersons(self, basename):\n",
    "        \"\"\"Read seniors from CSV into memory\"\"\"\n",
    "        \n",
    "        self.persons = {}\n",
    "\n",
    "        # Read rows using the CSV reader\n",
    "        fn = os.path.join('..', 'data', 'public', basename + '.csv')\n",
    "        with open(fn, 'rb') as f:\n",
    "            csvReader = csv.reader(f)\n",
    "            \n",
    "            # Process each row individually\n",
    "            for person in csvReader:\n",
    "                self.persons[person[0]] = person[1:]\n",
    "                self.ids.append(person[0])\n",
    "        \n",
    "                \n",
    "    def listPersons(self):\n",
    "        \"\"\"List seniors from memory\"\"\"\n",
    "        \n",
    "        html = '<details>\\n'\n",
    "        html += '  <summary>%s</summary>\\n' % 'Over 40s'\n",
    "        html += '  <table>\\n'\n",
    "        html += '    <tr>'\n",
    "        for field in ['Person', 'Speedsolving.com']:\n",
    "            html += '<td><b>%s</b></td>' % field\n",
    "        html += '</tr>\\n'\n",
    "            \n",
    "        for id in self.ids:\n",
    "            person = self.persons[id]\n",
    "            \n",
    "            name = person[0]\n",
    "            link = '<a href=\"https://www.worldcubeassociation.org/results/p.php?i=%s\">%s</a>' % (id, name)\n",
    "\n",
    "            html += '    <tr>'\n",
    "            html += '<td>%s, %s</td>' % (link, person[1])\n",
    "            html += '<td>%s</td>' % person[2]\n",
    "            html += '</tr>\\n'\n",
    "\n",
    "        html += '  </table>\\n'\n",
    "        html += '</details>\\n\\n'\n",
    "        \n",
    "        return html\n",
    "            \n",
    "        \n",
    "    def readResults(self, basename, event):\n",
    "        \"\"\"Read event results from CSV into memory\"\"\"\n",
    "        \n",
    "        self.event = event\n",
    "        self.results = []\n",
    "        \n",
    "        if event[0] == '333fm' and 'single' in basename:\n",
    "            self.fmSingle = True\n",
    "        else:\n",
    "            self.fmSingle = False\n",
    "\n",
    "        # Read rows using the CSV reader\n",
    "        fn = os.path.join('..', 'data', 'public', basename, event[0] + '.csv')\n",
    "        with open(fn, 'rb') as f:\n",
    "            csvReader = csv.reader(f)\n",
    "            \n",
    "            # Process each row individually\n",
    "            for inputRow in csvReader:\n",
    "                \n",
    "                self.results.append(inputRow)\n",
    "                \n",
    "\n",
    "    def listResults(self):\n",
    "        \"\"\"List seniors from memory\"\"\"\n",
    "        \n",
    "        html = '<details>\\n'\n",
    "        html += '  <summary>%s</summary>\\n' % self.event[1]\n",
    "        html += '  <table>\\n'\n",
    "        html += '    <tr>'\n",
    "        for field in ['Rank', 'Person', 'Result']:\n",
    "            html += '<td><b>%s</b></td>' % field\n",
    "        html += '</tr>\\n'\n",
    "        \n",
    "        rank = 1\n",
    "        prevResult = None\n",
    "        \n",
    "        for result in self.results:\n",
    "            \n",
    "            person = self.persons[result[0]]\n",
    "            name = person[0]\n",
    "            country = person[1]\n",
    "            \n",
    "            link = '<a href=\"https://www.worldcubeassociation.org/results/p.php?i=%s#%s\">%s</a>' % \\\n",
    "                    (result[0], self.event[0], name)\n",
    "\n",
    "            if self.fmSingle:\n",
    "                result = formatResult(self.event, int(result[1]) * 100, showFractions = False)\n",
    "            else:\n",
    "                result = formatResult(self.event, result[1], showFractions = True)\n",
    "\n",
    "            html += '    <tr>'\n",
    "            html += '<td>%s</td>' % (rank if result != prevResult else '')\n",
    "            html += '<td>%s, %s</td>' % (link, country)\n",
    "            html += '<td>%s</td>' % result\n",
    "            html += '</tr>\\n'\n",
    "            \n",
    "            prevResult = result\n",
    "            rank += 1\n",
    "\n",
    "        html += '  </table>\\n'\n",
    "        html += '</details>\\n\\n'\n",
    "        \n",
    "        return html"
   ]
  },
  {
   "cell_type": "markdown",
   "metadata": {},
   "source": [
    "## Analyse Events\n",
    "\n",
    "Process the events one-by-one"
   ]
  },
  {
   "cell_type": "code",
   "execution_count": 4,
   "metadata": {
    "collapsed": false
   },
   "outputs": [],
   "source": [
    "with open('Partial Rankings.txt', 'r') as f:\n",
    "    html = ''.join(f.readlines())\n",
    "\n",
    "partialResults = PartialResults()\n",
    "\n",
    "html += '<h1>%s</h1>\\n\\n' % 'Official Competitors'\n",
    "partialResults.readPersons('known_senior_details')\n",
    "html += partialResults.listPersons()\n",
    "\n",
    "html += '<h1>%s</h1>\\n\\n' % 'Official Averages'\n",
    "for event in events:\n",
    "    if event[4] > 0:\n",
    "        partialResults.readResults('known_senior_averages', event)\n",
    "        html += partialResults.listResults()\n",
    "    \n",
    "html += '<h1>%s</h1>\\n\\n' % 'Official Singles'\n",
    "for event in events:\n",
    "    partialResults.readResults('known_senior_singles', event)\n",
    "    html += partialResults.listResults()\n",
    "    \n",
    "with open(\"../Partial Rankings.md\", 'w') as f:\n",
    "    f.write(html)"
   ]
  },
  {
   "cell_type": "markdown",
   "metadata": {
    "collapsed": true
   },
   "source": [
    "# All Done!"
   ]
  },
  {
   "cell_type": "code",
   "execution_count": 5,
   "metadata": {
    "collapsed": false
   },
   "outputs": [
    {
     "name": "stdout",
     "output_type": "stream",
     "text": [
      "1982FRID01,1982PETR01,1982RAZO01,2003AKIM01,2003BARR01,2003BLON01,2003BRUC01,2003DENN01,2003WESS01,2003ZBOR02,2004BOSS01,2004FEDE01,2004FERN01,2004MASA01,2004MCGA01,2004ROUX01,2004ZIJD01,2005CAMP01,2005CHEN02,2005FARK01,2005GUST02,2005ISHI01,2005JOKS01,2005KOCZ01,2005KOSE01,2005KURO02,2005PARI01,2005SUSE01,2005THOM01,2005TOMI01,2005TOMO01,2005VANH02,2006ALBA01,2006BERG01,2006GALE01,2006HYAK01,2006LOUI01,2006MATH01,2006NORS01,2007BERR01,2007DIAZ01,2007FEKE01,2007HASH01,2007HUGH01,2007OEYM01,2007SANC01,2008BERG04,2008COUR01,2008ERSK01,2008GOUB01,2008LIDS01,2009JOHN07,2009PARE02,2009TIRA01,2010HEIL02,2010SPIE01,2010STAS01,2011BOIS01,2011LAWR01,2011MICH01,2011STUA01,2011WRIG01,2012OTAN01,2012PETR01,2012PLAC01,2012POOT01,2012SCHM07,2012WATA02,2013ANTI01,2013BRAN01,2013COLL02,2013COPP01,2013DEAR01,2013LEIS01,2013MORA02,2014DECO01,2014JANE01,2014PACE01,2014VIGN02,2015ADAM03,2015BOSW01,2015CLAR13,2015GALE01,2015GEOR02,2015GOSL01,2015HARR03,2015JOIN02,2015NICH04,2015PARK24,2015PEPP01,2015PLOW01,2015PRAT08,2015REYE08,2015RIVE05,2015SPAD01,2015TAYL04,2016ALAR01,2016DUEH02,2016GALE02,2016GOSL01,2016GREE02,2016LEWI07,2016PETE06,2016POPO02,2016ZEMD01,2017FREG01,2017GRAD03,2017LACH01,2017MAHI02,2017PALI03,2017ROSA09,2017VIDO02,2018CUME02,2018DOYL02,2018GUTI13,2018PRAT13,2018SALM01,2018VILJ02,2019CHIE01,2019ONOG01 = 120 competitors\n"
     ]
    }
   ],
   "source": [
    "ids = partialResults.ids\n",
    "ids.sort()\n",
    "print ','.join(id for id in ids) + ' = ' + str(len(ids)) + ' competitors'"
   ]
  },
  {
   "cell_type": "code",
   "execution_count": null,
   "metadata": {
    "collapsed": true
   },
   "outputs": [],
   "source": []
  }
 ],
 "metadata": {
  "kernelspec": {
   "display_name": "Python 2",
   "language": "python",
   "name": "python2"
  },
  "language_info": {
   "codemirror_mode": {
    "name": "ipython",
    "version": 2
   },
   "file_extension": ".py",
   "mimetype": "text/x-python",
   "name": "python",
   "nbconvert_exporter": "python",
   "pygments_lexer": "ipython2",
   "version": "2.7.11"
  }
 },
 "nbformat": 4,
 "nbformat_minor": 0
}
