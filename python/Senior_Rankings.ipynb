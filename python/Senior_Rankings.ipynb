{
 "cells": [
  {
   "cell_type": "markdown",
   "metadata": {},
   "source": [
    "# Senior Rankings\n",
    "\n",
    "Created by Michael George (AKA Logiqx)\n",
    "\n",
    "Website: https://logiqx.github.io/wca-ipy/"
   ]
  },
  {
   "cell_type": "markdown",
   "metadata": {},
   "source": [
    "## Initialisation\n",
    "\n",
    "Basic approach to determine the project directory"
   ]
  },
  {
   "cell_type": "code",
   "execution_count": 1,
   "metadata": {},
   "outputs": [],
   "source": [
    "import os, sys\n",
    "\n",
    "projdir = os.path.realpath(os.path.join(sys.path[0], '..'))\n",
    "\n",
    "try:\n",
    "    debug = int(os.environ['LOGIQX_DEBUG'])\n",
    "except:\n",
    "    debug = 0"
   ]
  },
  {
   "cell_type": "markdown",
   "metadata": {},
   "source": [
    "## Generic Class\n",
    "\n",
    "Generic class to ensure that all custom classes are printable"
   ]
  },
  {
   "cell_type": "code",
   "execution_count": 2,
   "metadata": {},
   "outputs": [],
   "source": [
    "class Printable:\n",
    "    def __repr__(self):\n",
    "        return str(self.__class__) + \": \" + str(self.__dict__)\n",
    "\n",
    "    def __str__(self):\n",
    "        return str(self.__class__) + \": \" + str(self.__dict__)"
   ]
  },
  {
   "cell_type": "markdown",
   "metadata": {},
   "source": [
    "## Load Extracts\n",
    "\n",
    "Read CSVs into memory as actual objects"
   ]
  },
  {
   "cell_type": "code",
   "execution_count": 3,
   "metadata": {},
   "outputs": [],
   "source": [
    "import csv\n",
    "\n",
    "def readCsv(extractName, classType):\n",
    "    objects = []\n",
    "\n",
    "    fn = os.path.join(projdir, 'data', 'extract', '%s.csv' % extractName)\n",
    "    with open(fn, 'r') as f:\n",
    "        csvReader = csv.reader(f)\n",
    "\n",
    "        for inputRow in csvReader:\n",
    "            objects.append(classType(inputRow))\n",
    "\n",
    "        return objects"
   ]
  },
  {
   "cell_type": "code",
   "execution_count": 4,
   "metadata": {},
   "outputs": [],
   "source": [
    "class WcaEvent(Printable):\n",
    "    def __init__(self, fields):\n",
    "        self.id, self.name, self.rank, self.format = fields\n",
    "        self.rank = int(self.rank)\n",
    "        self.rankings = []\n",
    "\n",
    "events = {}\n",
    "for event in readCsv('events', WcaEvent):\n",
    "    events[event.id] = event"
   ]
  },
  {
   "cell_type": "code",
   "execution_count": 5,
   "metadata": {},
   "outputs": [],
   "source": [
    "class Competition(Printable):\n",
    "    def __init__(self, fields):\n",
    "        self.id, self.name, self.cityName, self.country, self.external_website, self.startDate, self.endDate = fields\n",
    "\n",
    "competitions = {}\n",
    "currId = 1\n",
    "for competition in readCsv('competitions', Competition):\n",
    "    competitions[competition.id] = competition\n",
    "    competition.webId = competition.id\n",
    "    competition.id = currId\n",
    "    currId += 1"
   ]
  },
  {
   "cell_type": "code",
   "execution_count": 6,
   "metadata": {},
   "outputs": [],
   "source": [
    "class Continent(Printable):\n",
    "    def __init__(self, fields):\n",
    "        self.id, self.name = fields\n",
    "\n",
    "continents = {}\n",
    "for continent in readCsv('continents', Continent):\n",
    "    continents[continent.id] = continent"
   ]
  },
  {
   "cell_type": "code",
   "execution_count": 7,
   "metadata": {},
   "outputs": [],
   "source": [
    "class Country(Printable):\n",
    "    def __init__(self, fields):\n",
    "        self.id, self.name, self.continent = fields\n",
    "\n",
    "countries = {}\n",
    "for country in readCsv('countries', Country):\n",
    "    countries[country.id] = country"
   ]
  },
  {
   "cell_type": "code",
   "execution_count": 8,
   "metadata": {},
   "outputs": [],
   "source": [
    "class Person(Printable):\n",
    "    def __init__(self, fields):\n",
    "        self.id, self.name, self.country, self.username, self.usernum, self.age, self.hidden, self.userId = fields\n",
    "        self.usernum = int(self.usernum)\n",
    "        self.age = int(self.age)\n",
    "        self.userId = int(self.userId)\n",
    "        self.events = []\n",
    "\n",
    "persons = {}\n",
    "for person in readCsv('seniors', Person):\n",
    "    persons[person.id] = person\n",
    "\n",
    "persons['FAKE_RANGE'] = Person(['FAKE_RANGE', 'FAKE (RANGE)', 'XE', '', 0, 0, 'y', 0])\n",
    "persons['FAKE_EXACT'] = Person(['FAKE_EXACT', 'FAKE (EXACT)', 'XE', '', 0, 0, 'y', 0])"
   ]
  },
  {
   "cell_type": "code",
   "execution_count": 9,
   "metadata": {},
   "outputs": [],
   "source": [
    "class Ranking(Printable):\n",
    "    def __init__(self, fields):\n",
    "        self.eventId, self.type, self.age, self.personId, self.best, self.rank, self.competition, self.ageAtComp = fields\n",
    "        self.age = int(self.age)\n",
    "        self.best = int(self.best)\n",
    "        self.rank = int(self.rank)\n",
    "        self.ageAtComp = int(self.ageAtComp)\n",
    "\n",
    "rankings = readCsv('senior_rankings', Ranking)"
   ]
  },
  {
   "cell_type": "markdown",
   "metadata": {},
   "source": [
    "## Process Rankings\n",
    "\n",
    "Process the rankings prior to JSON export"
   ]
  },
  {
   "cell_type": "code",
   "execution_count": 10,
   "metadata": {},
   "outputs": [],
   "source": [
    "def formatResult(event, resultType, result):\n",
    "    '''Intelligently convert result to appropriate format - e.g. HH:MM:SS.SS'''\n",
    "\n",
    "    def formatTime(seconds):\n",
    "        if seconds >= 3600:\n",
    "            formattedTime = str(seconds // 3600) + ':' + str(seconds % 3600 // 60).zfill(2) + ':' + str(seconds % 60).zfill(2)\n",
    "        elif seconds >= 60:\n",
    "            formattedTime = str(seconds // 60) + ':' + str(seconds % 60).zfill(2)\n",
    "        else:\n",
    "            formattedTime = str(seconds)\n",
    "        return formattedTime\n",
    "\n",
    "    result = int(result)\n",
    "\n",
    "    if event.format == 'time':\n",
    "        seconds = result // 100\n",
    "        centiseconds = result % 100\n",
    "        formattedResult = formatTime(seconds) + \".\" + str(centiseconds).zfill(2)\n",
    "\n",
    "    elif event.format == 'multi':\n",
    "        difference = 99 - result // 10000000\n",
    "        seconds = result % 10000000 // 100\n",
    "        missed = result % 100\n",
    "        solved = difference + missed\n",
    "        attempted = solved + missed\n",
    "\n",
    "        formattedResult = '%d/%d in %s' % (solved, attempted, formatTime(seconds))\n",
    "\n",
    "    else:\n",
    "        if (event.id == '333fm' and resultType == 'single'):\n",
    "            formattedResult = str(result)\n",
    "        else:\n",
    "            formattedResult = str(result // 100) + \".\" + str(result % 100).zfill(2)\n",
    "\n",
    "    return formattedResult"
   ]
  },
  {
   "cell_type": "code",
   "execution_count": 11,
   "metadata": {},
   "outputs": [],
   "source": [
    "from datetime import datetime\n",
    "\n",
    "class Ranks(Printable):\n",
    "    def __init__(self, ranking):\n",
    "        self.type = ranking.type\n",
    "        self.age = ranking.age\n",
    "        self.ranks = []\n",
    "        self.estimate = 0\n",
    "\n",
    "class Rank(Printable):\n",
    "    def __init__(self, age, ranking):\n",
    "        self.rank = ranking.rank\n",
    "        self.id = ranking.personId\n",
    "        self.best = formatResult(events[ranking.eventId], ranking.type, ranking.best)\n",
    "\n",
    "        # Was this achieved in another age category?\n",
    "        if ranking.ageAtComp > age:\n",
    "            self.age = ranking.ageAtComp\n",
    "  \n",
    "        # Determine the numerical competition id\n",
    "        self.competition = competitions[ranking.competition].id\n",
    "\n",
    "        # Determine if this is a recent PB\n",
    "        d1 = datetime.strptime(competitions[ranking.competition].endDate, '%Y-%m-%d')\n",
    "        d2 = datetime.now()\n",
    "        if ((d2 - d1).days <= 91):\n",
    "            self.highlight = 1"
   ]
  },
  {
   "cell_type": "code",
   "execution_count": 12,
   "metadata": {},
   "outputs": [],
   "source": [
    "# Simplify the loop\n",
    "prevRanking = rankings[0]\n",
    "currRanks = Ranks(prevRanking)\n",
    "competitionIds = []\n",
    "\n",
    "# Process rankings\n",
    "for ranking in rankings:\n",
    "    if ranking.eventId != prevRanking.eventId or ranking.type != prevRanking.type or ranking.age != prevRanking.age:\n",
    "        if currRanks and prevRanking.eventId in events:\n",
    "            events[prevRanking.eventId].rankings.append(currRanks)\n",
    "        currRanks = Ranks(ranking)\n",
    "\n",
    "    if ranking.eventId in events:\n",
    "        if debug or persons[ranking.personId].hidden == 'n':\n",
    "            currRank = Rank(currRanks.age, ranking)\n",
    "            currRanks.ranks.append(currRank)\n",
    "            \n",
    "            if ranking.competition not in competitionIds:\n",
    "                competitionIds.append(ranking.competition)\n",
    "\n",
    "        if ranking.eventId not in persons[ranking.personId].events:\n",
    "            persons[ranking.personId].events.append(ranking.eventId)\n",
    "\n",
    "        currRanks.estimate += 1\n",
    "\n",
    "    prevRanking = ranking\n",
    "\n",
    "# Store the final ranking\n",
    "if currRanks and prevRanking.eventId in events:\n",
    "    events[prevRanking.eventId].rankings.append(currRanks)"
   ]
  },
  {
   "cell_type": "markdown",
   "metadata": {},
   "source": [
    "## Prepare lists for JSON export"
   ]
  },
  {
   "cell_type": "code",
   "execution_count": 13,
   "metadata": {},
   "outputs": [],
   "source": [
    "eventsList = events.values()\n",
    "eventsList = sorted(eventsList, key=lambda e: e.rank)\n",
    "\n",
    "personsList = persons.values()\n",
    "personsList = sorted(personsList, key=lambda s: s.name)\n",
    "\n",
    "countriesList = countries.values()\n",
    "countriesList = sorted(countriesList, key=lambda c: c.name)\n",
    "\n",
    "continentsList = continents.values()\n",
    "continentsList = sorted(continentsList, key=lambda c: c.name)\n",
    "\n",
    "competitionsList = []\n",
    "for competition in competitions.values():\n",
    "    if competition.webId in competitionIds:\n",
    "        competitionsList.append(competition)\n",
    "competitionsList = sorted(competitionsList, key=lambda c: c.id)"
   ]
  },
  {
   "cell_type": "markdown",
   "metadata": {},
   "source": [
    "## Remove clutter for JSON export"
   ]
  },
  {
   "cell_type": "code",
   "execution_count": 14,
   "metadata": {},
   "outputs": [],
   "source": [
    "# Remove rank from events\n",
    "for event in eventsList:\n",
    "    del(event.rank)\n",
    "\n",
    "# Remove hidden persons\n",
    "for person in reversed(personsList):\n",
    "    if person.hidden == 'y':\n",
    "        if debug:\n",
    "            person.name = '* %s *' % person.name\n",
    "        else:\n",
    "            personsList.remove(person)\n",
    "\n",
    "# Remove redundant information from persons\n",
    "for person in personsList:\n",
    "    if person.usernum <= 0:\n",
    "        del(person.username)\n",
    "        del(person.usernum)\n",
    "\n",
    "    del(person.hidden)\n",
    "    del(person.userId)\n",
    "    \n",
    "# Remove redundant information from competitions\n",
    "for competition in competitionsList:\n",
    "    del(competition.cityName)\n",
    "    del(competition.external_website)\n",
    "    del(competition.startDate)\n",
    "    del(competition.endDate)"
   ]
  },
  {
   "cell_type": "markdown",
   "metadata": {},
   "source": [
    "## Write JSON\n",
    "\n",
    "Write the final output to a JSON file"
   ]
  },
  {
   "cell_type": "code",
   "execution_count": 15,
   "metadata": {},
   "outputs": [
    {
     "name": "stdout",
     "output_type": "stream",
     "text": [
      "Rankings completed in 0.20 seconds\n"
     ]
    }
   ],
   "source": [
    "import datetime\n",
    "import time\n",
    "pc1 = time.perf_counter()\n",
    "\n",
    "refreshed = datetime.datetime.now().replace(microsecond=0).isoformat().replace('T', ' ')\n",
    "\n",
    "import json\n",
    "\n",
    "jsonDump = 'rankings =' + os.linesep\n",
    "jsonDump += json.dumps( {\n",
    "                            'refreshed': refreshed,\n",
    "                            'events': eventsList,\n",
    "                            'persons': personsList,\n",
    "                            'competitions': competitionsList,\n",
    "                            'countries': countriesList,\n",
    "                            'continents': continentsList\n",
    "                        },\n",
    "                        default=lambda o: o.__dict__, ensure_ascii=False, indent=0)\n",
    "\n",
    "fn = os.path.join('..', 'docs', 'data', 'Senior_Rankings.js')\n",
    "\n",
    "if not os.path.exists(os.path.dirname(fn)):\n",
    "    os.makedirs(os.path.dirname(fn))\n",
    "\n",
    "with open(fn, 'w') as f:\n",
    "    f.write(jsonDump)\n",
    "\n",
    "pc2 = time.perf_counter()\n",
    "print(\"Rankings completed in %0.2f seconds\" % (pc2 - pc1))"
   ]
  },
  {
   "cell_type": "markdown",
   "metadata": {
    "collapsed": true
   },
   "source": [
    "## All Done!"
   ]
  }
 ],
 "metadata": {
  "kernelspec": {
   "display_name": "Python 3",
   "language": "python",
   "name": "python3"
  },
  "language_info": {
   "codemirror_mode": {
    "name": "ipython",
    "version": 3
   },
   "file_extension": ".py",
   "mimetype": "text/x-python",
   "name": "python",
   "nbconvert_exporter": "python",
   "pygments_lexer": "ipython3",
   "version": "3.7.3"
  }
 },
 "nbformat": 4,
 "nbformat_minor": 1
}
