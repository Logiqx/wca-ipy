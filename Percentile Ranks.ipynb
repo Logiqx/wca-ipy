{
 "cells": [
  {
   "cell_type": "markdown",
   "metadata": {},
   "source": [
    "# Percentile Ranks\n",
    "\n",
    "Created by Michael George (AKA Logiqx)\n",
    "\n",
    "Link: https://www.speedsolving.com/forum/showthread.php?54128-How-fast-are-the-over-40-s-in-competitions"
   ]
  },
  {
   "cell_type": "markdown",
   "metadata": {},
   "source": [
    "## Data Prep\n",
    "\n",
    "Activities for each file:\n",
    "* Split into multiple files - one file per event\n",
    "* Standardise the format - CSV with minimal quoting\n",
    "* Apply cutoffs - TODO"
   ]
  },
  {
   "cell_type": "code",
   "execution_count": 44,
   "metadata": {
    "collapsed": false
   },
   "outputs": [],
   "source": [
    "import os, csv\n",
    "\n",
    "# List of recognised events\n",
    "events = ['222', '333', '333bf', '333fm', '333ft', '333mbf', '333oh',\n",
    "          '444', '444bf', '555', '555bf', '666', '777',\n",
    "          'clock', 'minx', 'pyram', 'skewb', 'sq1']\n",
    "\n",
    "# Function to write rows using the CSV writer\n",
    "def writeEventRows(basename, event, rows):\n",
    "    fn = os.path.join('data', basename, event + '.csv')\n",
    "    with open(fn, 'wb') as f:\n",
    "        csvWriter = csv.writer(f, quoting = csv.QUOTE_MINIMAL)\n",
    "        for row in rows:\n",
    "            csvWriter.writerow(row)\n",
    "    \n",
    "# Process all 3 input files\n",
    "for basename in ['all_averages', 'senior_averages', 'known_averages']:\n",
    "\n",
    "    # Read rows using the CSV reader\n",
    "    fn = os.path.join('data', basename + '.csv')\n",
    "    with open(fn, 'rb') as f:\n",
    "        csvReader = csv.reader(f)\n",
    "        \n",
    "        # Initialisation\n",
    "        bufferEvent = None\n",
    "        bufferRows = []       \n",
    "        \n",
    "        # Process each row individually\n",
    "        for inputRow in csvReader:\n",
    "            event = inputRow[0]\n",
    "            time = inputRow[1]\n",
    "            count = inputRow[2]\n",
    "            \n",
    "            # Only process the current row if it is a recognised event\n",
    "            if events.count(event) > 0:\n",
    "                \n",
    "                # Has the event changed?\n",
    "                if (event != bufferEvent):\n",
    "                    \n",
    "                    # Save the previous event\n",
    "                    if (bufferEvent != None):\n",
    "                        writeEventRows(basename, bufferEvent, bufferRows)\n",
    "                    \n",
    "                    bufferEvent = event\n",
    "                    bufferRows = []\n",
    "                    \n",
    "                # Add the current row to the output buffer\n",
    "                bufferRows.append([time, count])\n",
    "\n",
    "        # Save the final event\n",
    "        if (bufferEvent != None):\n",
    "            writeEventRows(basename, bufferEvent, bufferRows)"
   ]
  },
  {
   "cell_type": "code",
   "execution_count": null,
   "metadata": {
    "collapsed": true
   },
   "outputs": [],
   "source": []
  }
 ],
 "metadata": {
  "kernelspec": {
   "display_name": "Python 2",
   "language": "python",
   "name": "python2"
  },
  "language_info": {
   "codemirror_mode": {
    "name": "ipython",
    "version": 2
   },
   "file_extension": ".py",
   "mimetype": "text/x-python",
   "name": "python",
   "nbconvert_exporter": "python",
   "pygments_lexer": "ipython2",
   "version": "2.7.11"
  }
 },
 "nbformat": 4,
 "nbformat_minor": 0
}
