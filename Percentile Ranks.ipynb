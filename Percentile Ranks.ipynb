{
 "cells": [
  {
   "cell_type": "markdown",
   "metadata": {},
   "source": [
    "# Percentile Ranks\n",
    "\n",
    "Created by Michael George (AKA Logiqx)\n",
    "\n",
    "Link: https://www.speedsolving.com/forum/showthread.php?54128-How-fast-are-the-over-40-s-in-competitions"
   ]
  },
  {
   "cell_type": "code",
   "execution_count": 120,
   "metadata": {
    "collapsed": false
   },
   "outputs": [],
   "source": [
    "# List of recognised events\n",
    "eventsInfo = \\\n",
    "[\n",
    "    ('333', '3x3x3 Cube', '10', 'time'),\n",
    "    ('222', '2x2x2 Cube', '20', 'time'),\n",
    "    ('444', '4x4x4 Cube', '30', 'time'),\n",
    "    ('555', '5x5x5 Cube', '40', 'time'),\n",
    "    ('666', '6x6x6 Cube', '50', 'time'),\n",
    "    ('777', '7x7x7 Cube', '60', 'time'),\n",
    "    ('333bf', '3x3x3 Blindfolded', '70', 'time'),\n",
    "    ('333fm', '3x3x3 Fewest Moves', '80', 'number'),\n",
    "    ('333oh', '3x3x3 One-Handed', '90', 'time'),\n",
    "    ('333ft', '3x3x3 With Feet', '100', 'time'),\n",
    "    ('clock', 'Clock', '110', 'time'),\n",
    "    ('minx', 'Megaminx', '120', 'time'),\n",
    "    ('pyram', 'Pyraminx', '130', 'time'),\n",
    "    ('skewb', 'Skewb', '140', 'time'),\n",
    "    ('sq1', 'Square-1', '150', 'time'),\n",
    "    ('444bf', '4x4x4 Blindfolded', '160', 'time'),\n",
    "    ('555bf', '5x5x5 Blindfolded', '170', 'time'),\n",
    "    ('333mbf', '3x3x3 Multi-Blind', '180', 'multi')\n",
    "]\n",
    "\n",
    "# Names of recognised events\n",
    "events = []\n",
    "for eventInfo in eventsInfo:\n",
    "    events.append(eventInfo[0])\n",
    "\n",
    "# Dictionary of recognised events\n",
    "eventsDict = {}\n",
    "for eventInfo in eventsInfo:\n",
    "    eventsDict[eventInfo[0]] = (eventInfo[1:])"
   ]
  },
  {
   "cell_type": "markdown",
   "metadata": {},
   "source": [
    "## Data Prep\n",
    "\n",
    "Activities for each file:\n",
    "* Split into multiple files - one file per event\n",
    "* Standardise the format - CSV with minimal quoting\n",
    "* Apply cutoffs - TODO\n",
    "\n",
    "Note: All of the output files are safe to distribute due to the application of cutoffs"
   ]
  },
  {
   "cell_type": "code",
   "execution_count": 121,
   "metadata": {
    "collapsed": false
   },
   "outputs": [],
   "source": [
    "import os, csv\n",
    "\n",
    "# Function to write rows using the CSV writer\n",
    "def writeResults(basename, event, rows):\n",
    "    \"\"\"Write event results from memory to CSV\"\"\"\n",
    "    \n",
    "    fn = os.path.join('data', basename, event + '.csv')\n",
    "    with open(fn, 'wb') as f:\n",
    "        csvWriter = csv.writer(f, quoting = csv.QUOTE_MINIMAL)\n",
    "        for row in rows:\n",
    "            csvWriter.writerow(row)\n",
    "    \n",
    "# Process all 3 input files\n",
    "for basename in ['all_averages', 'senior_averages', 'known_averages']:\n",
    "\n",
    "    # Read rows using the CSV reader\n",
    "    fn = os.path.join('data', basename + '.csv')\n",
    "    with open(fn, 'rb') as f:\n",
    "        csvReader = csv.reader(f)\n",
    "        \n",
    "        # Initialisise the event / results\n",
    "        event = None\n",
    "        results = []       \n",
    "        \n",
    "        # Process each row individually\n",
    "        for inputRow in csvReader:\n",
    "\n",
    "            # Only process the current row if it is a recognised event\n",
    "            if events.count(inputRow[0]) > 0:\n",
    "                \n",
    "                # Has the event changed?\n",
    "                if (event != inputRow[0]):\n",
    "                    \n",
    "                    # Save the previous event\n",
    "                    if (event != None):\n",
    "                        writeResults(basename, event, results)\n",
    "                    \n",
    "                    # Initialisise the event / results\n",
    "                    event = inputRow[0]\n",
    "                    results = []\n",
    "                    \n",
    "                # Add the current row to the output buffer\n",
    "                results.append(inputRow[1:])\n",
    "\n",
    "        # Save the final event\n",
    "        if (event != None):\n",
    "            writeResults(basename, event, results)"
   ]
  },
  {
   "cell_type": "markdown",
   "metadata": {},
   "source": [
    "## Read Event / Results from CSV\n",
    "\n",
    "Read event data from CSV into memory, prior to processing"
   ]
  },
  {
   "cell_type": "code",
   "execution_count": 142,
   "metadata": {
    "collapsed": false
   },
   "outputs": [],
   "source": [
    "class EventResults:\n",
    "    \n",
    "    def __init__(self):\n",
    "        \"\"\"Initialisise the event / results\"\"\"\n",
    "        \n",
    "        self.event = None\n",
    "        self.results = []\n",
    "        self.total = 0\n",
    "        \n",
    "    def readResults(self, basename, event):\n",
    "        \"\"\"Read event results from CSV into memory\"\"\"\n",
    "        \n",
    "        self.basename = basename\n",
    "        self.event = event\n",
    "        self.results = []\n",
    "        self.total = 0\n",
    "\n",
    "        # Read rows using the CSV reader\n",
    "        fn = os.path.join('data', self.basename, self.event + '.csv')\n",
    "        with open(fn, 'rb') as f:\n",
    "            csvReader = csv.reader(f)\n",
    "            \n",
    "            # Process each row individually\n",
    "            for inputRow in csvReader:\n",
    "                \n",
    "                # Pack out results with zeros\n",
    "                while (int(inputRow[0]) > len(self.results)):\n",
    "                    self.results.append([None, None])\n",
    "                \n",
    "                count = int(inputRow[1])\n",
    "                self.total += count\n",
    "                \n",
    "                self.results.append([count, self.total])\n",
    "                \n",
    "        # Analysse the results\n",
    "        self.analyseResults()\n",
    "                \n",
    "    def analyseResults(self):\n",
    "        \"\"\"Analyse the results which are in memory\"\"\"\n",
    "\n",
    "        for result in self.results:\n",
    "            if result[1]:\n",
    "                percentile = 100.0 * result[1] / self.total\n",
    "                result.append(percentile)\n",
    "            else:\n",
    "                result.append(None)\n",
    "            \n",
    "        # print self.results"
   ]
  },
  {
   "cell_type": "markdown",
   "metadata": {},
   "source": [
    "## Analyse results\n",
    "\n",
    "Process 3 sets of of results simultaneously"
   ]
  },
  {
   "cell_type": "code",
   "execution_count": 155,
   "metadata": {
    "collapsed": false
   },
   "outputs": [],
   "source": [
    "class EventAnalysis:\n",
    "    \n",
    "    def __init__(self):\n",
    "        \"\"\"Initialisise the event / results\"\"\"\n",
    "        \n",
    "        self.event = None\n",
    "        self.wcaResults = None\n",
    "        self.seniorResults = None\n",
    "        self.knownResults = None\n",
    "        \n",
    "    def readResults(self, event):\n",
    "        \"\"\"Read event results from CSV into memory\"\"\"\n",
    "\n",
    "        self.event = event\n",
    "        \n",
    "        self.wcaResults = EventResults()\n",
    "        self.wcaResults.readResults('all_averages', self.event)\n",
    "\n",
    "        self.seniorResults = EventResults()\n",
    "        self.seniorResults.readResults('senior_averages', self.event)\n",
    "\n",
    "        self.knownResults = EventResults()\n",
    "        self.knownResults.readResults('known_averages', self.event)\n",
    "        \n",
    "        self.analyseResults()\n",
    "\n",
    "    def analyseResults(self):\n",
    "        \"\"\"Analyse the results which are in memory\"\"\"\n",
    "\n",
    "        maxUniqueness = 0\n",
    "        \n",
    "        for i in range(len(self.wcaResults.results)):\n",
    "            wcaResult = self.wcaResults.results[i]\n",
    "            \n",
    "            if (len(self.seniorResults.results) > i):\n",
    "                seniorResult = self.seniorResults.results[i]\n",
    "            else:\n",
    "                seniorResult = [None, None, None]\n",
    "                \n",
    "            if (len(self.knownResults.results) > i):\n",
    "                knownResult = self.knownResults.results[i]\n",
    "            else:\n",
    "                knownResult = [None, None, None]\n",
    "                \n",
    "            if seniorResult[0]:\n",
    "                uniqueness = 100.0 * seniorResult[0] / wcaResult[0]\n",
    "                \n",
    "                if uniqueness > maxUniqueness:\n",
    "                    maxUniqueness = uniqueness\n",
    "                    \n",
    "                if uniqueness >= 50:\n",
    "                    asterisk = '*'\n",
    "                else:\n",
    "                    asterisk = ''\n",
    "                    \n",
    "                if asterisk:\n",
    "                    print self.event, i, wcaResult, seniorResult, knownResult, uniqueness"
   ]
  },
  {
   "cell_type": "markdown",
   "metadata": {
    "collapsed": false
   },
   "source": [
    "## Process Averages\n",
    "\n",
    "Process all of the results"
   ]
  },
  {
   "cell_type": "code",
   "execution_count": 156,
   "metadata": {
    "collapsed": false
   },
   "outputs": [
    {
     "name": "stdout",
     "output_type": "stream",
     "text": [
      "333 194 [3, 109351, 99.77372056314383] [2, 1492, 97.45264532984977] [None, None, None] 66.6666666667\n",
      "333 199 [7, 109366, 99.78740681940529] [4, 1498, 97.84454604833442] [1, 113, 100.0] 57.1428571429\n",
      "333 210 [4, 109417, 99.83394009069426] [2, 1503, 98.17112998040497] [None, None, None] 50.0\n",
      "333 220 [2, 109457, 99.87043677405816] [1, 1508, 98.4977139124755] [None, None, None] 50.0\n",
      "333 224 [3, 109461, 99.87408644239454] [2, 1510, 98.62834748530372] [None, None, None] 66.6666666667\n",
      "333 230 [2, 109475, 99.88686028157191] [1, 1511, 98.69366427171784] [None, None, None] 50.0\n",
      "333 236 [1, 109489, 99.89963412074928] [1, 1513, 98.82429784454605] [None, None, None] 100.0\n",
      "333 237 [2, 109491, 99.90145895491747] [1, 1514, 98.88961463096015] [None, None, None] 50.0\n",
      "333 239 [1, 109494, 99.90419620616976] [1, 1515, 98.95493141737427] [None, None, None] 100.0\n",
      "333 252 [2, 109517, 99.92518179910401] [1, 1518, 99.15088177661659] [None, None, None] 50.0\n",
      "333 257 [2, 109522, 99.9297438845245] [1, 1519, 99.2161985630307] [None, None, None] 50.0\n",
      "333 272 [2, 109542, 99.94799222620644] [1, 1520, 99.2815153494448] [None, None, None] 50.0\n",
      "333 291 [2, 109549, 99.95437914579513] [1, 1521, 99.34683213585892] [None, None, None] 50.0\n",
      "333 293 [1, 109551, 99.95620397996332] [1, 1522, 99.41214892227302] [None, None, None] 100.0\n",
      "333 306 [1, 109557, 99.9616784824679] [1, 1523, 99.47746570868713] [None, None, None] 100.0\n",
      "333 314 [1, 109562, 99.96624056788839] [1, 1524, 99.54278249510124] [None, None, None] 100.0\n",
      "333 326 [1, 109568, 99.97171507039297] [1, 1525, 99.60809928151535] [None, None, None] 100.0\n",
      "333 327 [1, 109569, 99.97262748747707] [1, 1526, 99.67341606792945] [None, None, None] 100.0\n",
      "333 339 [1, 109574, 99.97718957289756] [1, 1527, 99.73873285434357] [None, None, None] 100.0\n",
      "333 357 [1, 109579, 99.98175165831805] [1, 1528, 99.80404964075767] [None, None, None] 100.0\n",
      "333 364 [1, 109584, 99.98631374373853] [1, 1529, 99.86936642717178] [None, None, None] 100.0\n",
      "333 381 [1, 109587, 99.98905099499083] [1, 1530, 99.93468321358588] [None, None, None] 100.0\n",
      "333 412 [1, 109593, 99.99452549749542] [1, 1531, 100.0] [None, None, None] 100.0\n"
     ]
    }
   ],
   "source": [
    "eventAnalysis = EventAnalysis()\n",
    "eventAnalysis.readResults('333')\n"
   ]
  },
  {
   "cell_type": "code",
   "execution_count": null,
   "metadata": {
    "collapsed": true
   },
   "outputs": [],
   "source": []
  },
  {
   "cell_type": "code",
   "execution_count": null,
   "metadata": {
    "collapsed": true
   },
   "outputs": [],
   "source": []
  }
 ],
 "metadata": {
  "kernelspec": {
   "display_name": "Python 2",
   "language": "python",
   "name": "python2"
  },
  "language_info": {
   "codemirror_mode": {
    "name": "ipython",
    "version": 2
   },
   "file_extension": ".py",
   "mimetype": "text/x-python",
   "name": "python",
   "nbconvert_exporter": "python",
   "pygments_lexer": "ipython2",
   "version": "2.7.11"
  }
 },
 "nbformat": 4,
 "nbformat_minor": 0
}
