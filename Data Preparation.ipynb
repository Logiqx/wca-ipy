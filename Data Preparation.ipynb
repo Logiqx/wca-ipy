{
 "cells": [
  {
   "cell_type": "markdown",
   "metadata": {},
   "source": [
    "# Data Preparation\n",
    "\n",
    "Created by Michael George (AKA Logiqx)\n",
    "\n",
    "Link: https://www.speedsolving.com/forum/showthread.php?54128-How-fast-are-the-over-40-s-in-competitions"
   ]
  },
  {
   "cell_type": "code",
   "execution_count": 1,
   "metadata": {
    "collapsed": false
   },
   "outputs": [],
   "source": [
    "from EventsLib import *"
   ]
  },
  {
   "cell_type": "markdown",
   "metadata": {},
   "source": [
    "## Data Prep\n",
    "\n",
    "Turn the raw database extracts into a standard format:\n",
    "* Split into multiple files - one file per event\n",
    "* Standardise the layout - CSV with minimal quoting\n",
    "* Apply time limits / cutoffs\n",
    "\n",
    "Note: All of the output files can be made public due to the application of time limits / cutoffs"
   ]
  },
  {
   "cell_type": "code",
   "execution_count": 2,
   "metadata": {
    "collapsed": false
   },
   "outputs": [],
   "source": [
    "import os, csv\n",
    "\n",
    "def prepareEvents(basename, subfolder, limit = True):\n",
    "    \"\"\"Split file into individual events and apply time limits\"\"\"\n",
    "    \n",
    "    def writeResults(basename, event, rows):\n",
    "        \"\"\"Write event results from memory to CSV\"\"\"\n",
    "\n",
    "        fn = os.path.join('data', 'public', basename, event + '.csv')\n",
    "        with open(fn, 'wb') as f:\n",
    "            csvWriter = csv.writer(f, quoting = csv.QUOTE_MINIMAL)\n",
    "            for row in rows:\n",
    "                csvWriter.writerow(row)\n",
    "\n",
    "    # Read rows using the CSV reader\n",
    "    fn = os.path.join('data', 'private', subfolder, basename + '.csv')\n",
    "    with open(fn, 'rb') as f:\n",
    "        csvReader = csv.reader(f)\n",
    "        \n",
    "        # Initialisise the event results\n",
    "        event = None\n",
    "        results = []\n",
    "        cutoff = 0\n",
    "        count = 0\n",
    "        \n",
    "        # Process each row individually\n",
    "        for inputRow in csvReader:\n",
    "\n",
    "            # Only process the current row if it is a recognised event\n",
    "            if inputRow[0] == event or eventsDict.has_key(inputRow[0]) > 0:\n",
    "                \n",
    "                # Has the event changed?\n",
    "                if (event != inputRow[0]):\n",
    "                    \n",
    "                    # Save the previous event\n",
    "                    if (event != None):\n",
    "                        if count > 0:\n",
    "                            results.append([cutoff, count])\n",
    "                        writeResults(basename, event, results)\n",
    "                    \n",
    "                    # Initialisise the event results\n",
    "                    event = inputRow[0]\n",
    "                    results = []\n",
    "                    cutoff = int(eventsDict[event][3])\n",
    "                    count = 0                   \n",
    "                    \n",
    "                # Add the current row to the output buffer\n",
    "                if (limit == False or int(inputRow[1]) < cutoff):\n",
    "                    results.append(inputRow[1:])\n",
    "                else:\n",
    "                    count += int(inputRow[2])\n",
    "\n",
    "        # Save the final event\n",
    "        if (event != None):\n",
    "            if count > 0:\n",
    "                results.append([cutoff, count])\n",
    "            writeResults(basename, event, results)\n",
    "\n",
    "            \n",
    "def preparePeople(basename, subfolder):\n",
    "    \"\"\"Essentially a file copy but it will reformat the records if necessary\"\"\"\n",
    "    \n",
    "    rows = []\n",
    "    \n",
    "    # Read rows using the CSV reader\n",
    "    fn = os.path.join('data', 'private', subfolder, basename + '.csv')\n",
    "    with open(fn, 'rb') as f:\n",
    "        csvReader = csv.reader(f)\n",
    "        for inputRow in csvReader:\n",
    "            rows.append(inputRow)\n",
    "\n",
    "    # Write rows using the CSV writer\n",
    "    fn = os.path.join('data', 'public', basename + '.csv')\n",
    "    with open(fn, 'wb') as f:\n",
    "        csvWriter = csv.writer(f, quoting = csv.QUOTE_MINIMAL)\n",
    "        for row in rows:\n",
    "            csvWriter.writerow(row)"
   ]
  },
  {
   "cell_type": "code",
   "execution_count": 3,
   "metadata": {
    "collapsed": false
   },
   "outputs": [],
   "source": [
    "# Process data from database export\n",
    "extract_date = '2019-01-30'\n",
    "prepareEvents('partial_senior_averages', extract_date, limit = False)\n",
    "prepareEvents('partial_senior_singles', extract_date, limit = False)\n",
    "preparePeople('seniors', extract_date)\n",
    "prepareEvents('known_senior_averages', extract_date)\n",
    "prepareEvents('known_senior_singles', extract_date)\n",
    "prepareEvents('wca_averages', extract_date)\n",
    "\n",
    "# Process data from database export (provided by WCA results team)\n",
    "extract_date = '2019-02-01'\n",
    "prepareEvents('all_senior_averages', '2019-02-01')"
   ]
  },
  {
   "cell_type": "code",
   "execution_count": null,
   "metadata": {
    "collapsed": true
   },
   "outputs": [],
   "source": []
  }
 ],
 "metadata": {
  "kernelspec": {
   "display_name": "Python 2",
   "language": "python",
   "name": "python2"
  },
  "language_info": {
   "codemirror_mode": {
    "name": "ipython",
    "version": 2
   },
   "file_extension": ".py",
   "mimetype": "text/x-python",
   "name": "python",
   "nbconvert_exporter": "python",
   "pygments_lexer": "ipython2",
   "version": "2.7.11"
  }
 },
 "nbformat": 4,
 "nbformat_minor": 0
}
