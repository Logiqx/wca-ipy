{
 "cells": [
  {
   "cell_type": "markdown",
   "metadata": {},
   "source": [
    "# WCA Database - Automated Download and Import\n",
    "\n",
    "Created by Michael George (AKA Logiqx)\n",
    "\n",
    "v1.0 - 2016-03-08"
   ]
  },
  {
   "cell_type": "markdown",
   "metadata": {},
   "source": [
    "## Database Parameters\n",
    "\n",
    "Update the connection details for your MySQL environment."
   ]
  },
  {
   "cell_type": "code",
   "execution_count": 2,
   "metadata": {
    "collapsed": true
   },
   "outputs": [],
   "source": [
    "database = \"DATABASE\"\n",
    "username = \"USERNAME\"\n",
    "password = \"PASSWORD\""
   ]
  },
  {
   "cell_type": "markdown",
   "metadata": {},
   "source": [
    "## Download the HTML\n",
    "\n",
    "Fetch the database export  page from the WCA website."
   ]
  },
  {
   "cell_type": "code",
   "execution_count": 10,
   "metadata": {
    "collapsed": false
   },
   "outputs": [],
   "source": [
    "# The library urllib2 will be used for the download\n",
    "import urllib2\n",
    "\n",
    "# Specify the URL\n",
    "base_url = \"https://www.worldcubeassociation.org/results/misc/\"\n",
    "\n",
    "# Specify the URL\n",
    "html_url = base_url + \"export.html\"\n",
    "\n",
    "# Open the URL and retrieve the TML\n",
    "page = urllib2.urlopen(html_url)"
   ]
  },
  {
   "cell_type": "markdown",
   "metadata": {},
   "source": [
    "## Parse the HTML\n",
    "\n",
    "Locate the link for the ZIP file containing the SQL script."
   ]
  },
  {
   "cell_type": "code",
   "execution_count": 11,
   "metadata": {
    "collapsed": false
   },
   "outputs": [],
   "source": [
    "# The library Beautiful Soup will be used for the HTML parsing\n",
    "from bs4 import BeautifulSoup\n",
    "\n",
    "# Parse the HTML using beautiful soup\n",
    "soup = BeautifulSoup(page, \"lxml\")\n",
    "\n",
    "# Find all of the links on the page\n",
    "links = soup.find_all(\"a\")\n",
    "\n",
    "# Iterate through links\n",
    "for link in links:\n",
    "    \n",
    "    # Get the hyperlink reference\n",
    "    href = link.get(\"href\")\n",
    "    \n",
    "    # If it is the SQL script it's the one that we want\n",
    "    if href.endswith(\".sql.zip\"):\n",
    "        \n",
    "        # Record the SQL and exit the loop\n",
    "        zip_fn = href\n",
    "        zip_url = base_url + href\n",
    "        break"
   ]
  },
  {
   "cell_type": "markdown",
   "metadata": {},
   "source": [
    "## Download the ZIP\n",
    "\n",
    "Save the ZIP to the local machine."
   ]
  },
  {
   "cell_type": "code",
   "execution_count": 12,
   "metadata": {
    "collapsed": false
   },
   "outputs": [],
   "source": [
    "# Create file handle for the ZIP\n",
    "infile = urllib2.urlopen(zip_url)\n",
    "\n",
    "# Write the ZIP to a local file\n",
    "with open(zip_fn, \"wb\") as outfile:\n",
    "    outfile.write(infile.read())\n",
    "\n",
    "# Close the URL\n",
    "infile.close()"
   ]
  },
  {
   "cell_type": "markdown",
   "metadata": {},
   "source": [
    "## Extract the SQL\n",
    "\n",
    "Extract the SQL script from within the ZIP file."
   ]
  },
  {
   "cell_type": "code",
   "execution_count": 13,
   "metadata": {
    "collapsed": false
   },
   "outputs": [],
   "source": [
    "# Use the zipfile library to handle the zipfile\n",
    "import zipfile\n",
    "\n",
    "# Open the ZIP file\n",
    "zipfile = zipfile.ZipFile(zip_fn, \"r\")\n",
    "\n",
    "# Iterate through members\n",
    "for member in zipfile.namelist():\n",
    "    \n",
    "    # Is it the SQL?\n",
    "    if member.endswith(\".sql\"):\n",
    "        \n",
    "        # Extract the SQL\n",
    "        zipfile.extract(member)\n",
    "\n",
    "# Close the ZIP file\n",
    "zipfile.close()"
   ]
  },
  {
   "cell_type": "markdown",
   "metadata": {},
   "source": [
    "## Run the SQL\n",
    "\n",
    "Run the SQL script to re-create the database\n",
    "\n",
    "Note: The actual database is expected to exist already!"
   ]
  },
  {
   "cell_type": "code",
   "execution_count": 14,
   "metadata": {
    "collapsed": false
   },
   "outputs": [
    {
     "data": {
      "text/plain": [
       "0"
      ]
     },
     "execution_count": 14,
     "metadata": {},
     "output_type": "execute_result"
    }
   ],
   "source": [
    "# Use the OS libreary to execute mysql script\n",
    "import os\n",
    "\n",
    "# Create the command\n",
    "cmd = 'mysql --database=%s --user=%s --password=%s --execute=\"source WCA_export.sql\" --default-character-set=utf8' % (database, username, password)\n",
    "\n",
    "# Execute the command\n",
    "os.system(cmd)"
   ]
  },
  {
   "cell_type": "markdown",
   "metadata": {},
   "source": [
    "## Create Indices\n",
    "\n",
    "Create table indices to improve query performance."
   ]
  },
  {
   "cell_type": "code",
   "execution_count": 3,
   "metadata": {
    "collapsed": false
   },
   "outputs": [],
   "source": [
    "# Use the PyMySQL library for adhoc SQL\n",
    "import pymysql\n",
    "\n",
    "# Open the connection\n",
    "conn = pymysql.connect(host='localhost', user=username, passwd=password, db=database)\n",
    "\n",
    "# Run the SQL commands\n",
    "c = conn.cursor() \n",
    "c.execute(\"CREATE INDEX person ON persons (id)\")\n",
    "c.execute(\"CREATE INDEX resultsperson ON results (personId)\")\n",
    "c.execute(\"CREATE INDEX competitions ON competitions (id)\")\n",
    "c.close() \n",
    "\n",
    "# Close the connection\n",
    "conn.close() "
   ]
  },
  {
   "cell_type": "markdown",
   "metadata": {},
   "source": [
    "# All Done!"
   ]
  }
 ],
 "metadata": {
  "kernelspec": {
   "display_name": "Python 2",
   "language": "python",
   "name": "python2"
  },
  "language_info": {
   "codemirror_mode": {
    "name": "ipython",
    "version": 2
   },
   "file_extension": ".py",
   "mimetype": "text/x-python",
   "name": "python",
   "nbconvert_exporter": "python",
   "pygments_lexer": "ipython2",
   "version": "2.7.11"
  }
 },
 "nbformat": 4,
 "nbformat_minor": 0
}
